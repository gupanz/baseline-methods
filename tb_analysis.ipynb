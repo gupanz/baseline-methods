{
 "cells": [
  {
   "cell_type": "code",
   "execution_count": 1,
   "metadata": {},
   "outputs": [],
   "source": [
    "import pandas as pd\n",
    "import numpy as np\n",
    "import matplotlib.pyplot as plt\n",
    "import math\n",
    "import argparse\n",
    "import random\n",
    "import time\n",
    "from collections import Counter\n",
    "from datetime import datetime\n",
    "%matplotlib inline\n",
    "np.random.seed(5)\n",
    "pd.set_option('display.float_format',lambda x : '%.2f' % x)"
   ]
  },
  {
   "cell_type": "code",
   "execution_count": 2,
   "metadata": {},
   "outputs": [],
   "source": [
    "train = pd.read_csv('./data/Taobao/UserBehavior.csv', sep=',', names=[\"UserId\", \"ItemId\", \"CategoryId\", \"BehaviorType\", \"Timestamp\"] )"
   ]
  },
  {
   "cell_type": "code",
   "execution_count": 3,
   "metadata": {},
   "outputs": [],
   "source": [
    "# 按照行为\n",
    "# train = train.sample(frac=0.7, replace=False, weights=None, random_state=None, axis=0)\n",
    "all_user = train.UserId.unique()\n",
    "selected_user = np.random.choice(all_user, int(0.7*len(all_user)))\n",
    "train = train[train.UserId.isin(selected_user)]"
   ]
  },
  {
   "cell_type": "code",
   "execution_count": 8,
   "metadata": {},
   "outputs": [
    {
     "data": {
      "text/html": [
       "<div>\n",
       "<style scoped>\n",
       "    .dataframe tbody tr th:only-of-type {\n",
       "        vertical-align: middle;\n",
       "    }\n",
       "\n",
       "    .dataframe tbody tr th {\n",
       "        vertical-align: top;\n",
       "    }\n",
       "\n",
       "    .dataframe thead th {\n",
       "        text-align: right;\n",
       "    }\n",
       "</style>\n",
       "<table border=\"1\" class=\"dataframe\">\n",
       "  <thead>\n",
       "    <tr style=\"text-align: right;\">\n",
       "      <th></th>\n",
       "      <th>UserId</th>\n",
       "      <th>ItemId</th>\n",
       "      <th>Timestamp</th>\n",
       "      <th>TimeId</th>\n",
       "      <th>CategoryId</th>\n",
       "    </tr>\n",
       "  </thead>\n",
       "  <tbody>\n",
       "    <tr>\n",
       "      <th>count</th>\n",
       "      <td>50311542.00</td>\n",
       "      <td>50311542.00</td>\n",
       "      <td>50311542.00</td>\n",
       "      <td>50311542.00</td>\n",
       "      <td>50311542.00</td>\n",
       "    </tr>\n",
       "    <tr>\n",
       "      <th>mean</th>\n",
       "      <td>507495.93</td>\n",
       "      <td>2580641.04</td>\n",
       "      <td>1511961429.31</td>\n",
       "      <td>4.24</td>\n",
       "      <td>2697785.95</td>\n",
       "    </tr>\n",
       "    <tr>\n",
       "      <th>std</th>\n",
       "      <td>294114.09</td>\n",
       "      <td>1487975.73</td>\n",
       "      <td>230083.43</td>\n",
       "      <td>2.65</td>\n",
       "      <td>1462986.38</td>\n",
       "    </tr>\n",
       "    <tr>\n",
       "      <th>min</th>\n",
       "      <td>2.00</td>\n",
       "      <td>1.00</td>\n",
       "      <td>1511539200.00</td>\n",
       "      <td>0.00</td>\n",
       "      <td>80.00</td>\n",
       "    </tr>\n",
       "    <tr>\n",
       "      <th>25%</th>\n",
       "      <td>253079.00</td>\n",
       "      <td>1296865.25</td>\n",
       "      <td>1511762316.00</td>\n",
       "      <td>2.00</td>\n",
       "      <td>1320293.00</td>\n",
       "    </tr>\n",
       "    <tr>\n",
       "      <th>50%</th>\n",
       "      <td>504513.00</td>\n",
       "      <td>2581924.00</td>\n",
       "      <td>1511964766.00</td>\n",
       "      <td>4.00</td>\n",
       "      <td>2672762.00</td>\n",
       "    </tr>\n",
       "    <tr>\n",
       "      <th>75%</th>\n",
       "      <td>761628.00</td>\n",
       "      <td>3863114.00</td>\n",
       "      <td>1512179230.00</td>\n",
       "      <td>7.00</td>\n",
       "      <td>4145813.00</td>\n",
       "    </tr>\n",
       "    <tr>\n",
       "      <th>max</th>\n",
       "      <td>1018011.00</td>\n",
       "      <td>5163069.00</td>\n",
       "      <td>1512316799.00</td>\n",
       "      <td>8.00</td>\n",
       "      <td>5161669.00</td>\n",
       "    </tr>\n",
       "  </tbody>\n",
       "</table>\n",
       "</div>"
      ],
      "text/plain": [
       "           UserId      ItemId     Timestamp      TimeId  CategoryId\n",
       "count 50311542.00 50311542.00   50311542.00 50311542.00 50311542.00\n",
       "mean    507495.93  2580641.04 1511961429.31        4.24  2697785.95\n",
       "std     294114.09  1487975.73     230083.43        2.65  1462986.38\n",
       "min          2.00        1.00 1511539200.00        0.00       80.00\n",
       "25%     253079.00  1296865.25 1511762316.00        2.00  1320293.00\n",
       "50%     504513.00  2581924.00 1511964766.00        4.00  2672762.00\n",
       "75%     761628.00  3863114.00 1512179230.00        7.00  4145813.00\n",
       "max    1018011.00  5163069.00 1512316799.00        8.00  5161669.00"
      ]
     },
     "execution_count": 8,
     "metadata": {},
     "output_type": "execute_result"
    }
   ],
   "source": [
    "train.describe()"
   ]
  },
  {
   "cell_type": "code",
   "execution_count": 9,
   "metadata": {},
   "outputs": [
    {
     "name": "stdout",
     "output_type": "stream",
     "text": [
      "1511539200\n",
      "1512316800\n"
     ]
    }
   ],
   "source": [
    "# 2017.11.25 to 2017.12.03\n",
    "def getTimestamp(value):\n",
    "    d = datetime.strptime(value, \"%Y.%m.%d %H:%M:%S\") \n",
    "    t = d.timetuple() \n",
    "    span = int(time.mktime(t)) \n",
    "    print(span)\n",
    "    return span\n",
    "    \n",
    "leftValue = '2017.11.25 00:00:00'\n",
    "rightValue = '2017.12.04 00:00:00'\n",
    "span_left = getTimestamp(leftValue)\n",
    "span_right = getTimestamp(rightValue)\n",
    "\n",
    "train = train[train['Timestamp'].between(span_left, span_right, inclusive=True)]"
   ]
  },
  {
   "cell_type": "code",
   "execution_count": 10,
   "metadata": {},
   "outputs": [],
   "source": [
    "day = 1\n",
    "min_timestamp = train.Timestamp.min()\n",
    "time_id = [int(math.floor((t-min_timestamp) / (86400*day))) for t in train['Timestamp']]\n",
    "train['TimeId'] = time_id\n",
    "\n",
    "session_id = [str(uid)+'_'+str(tid) for uid, tid in zip(train['UserId'], train['TimeId'])]\n",
    "train['SessionId'] = session_id\n",
    "train = train[[\"SessionId\", \"UserId\", \"ItemId\", \"Timestamp\", \"BehaviorType\",'TimeId', \"CategoryId\"]]"
   ]
  },
  {
   "cell_type": "code",
   "execution_count": 11,
   "metadata": {},
   "outputs": [
    {
     "data": {
      "image/png": "[encoded data removed]",
      "text/plain": [
       "<Figure size 576x288 with 1 Axes>"
      ]
     },
     "metadata": {
      "needs_background": "light"
     },
     "output_type": "display_data"
    }
   ],
   "source": [
    "items = train.ItemId.value_counts()\n",
    "plt.figure(figsize=(8, 4))\n",
    "plt.hist(items.values, bins=10, log=True)\n",
    "plt.xlabel('Number of times item appeared', fontsize=16)\n",
    "plt.ylabel('Count of displays', fontsize=16)\n",
    "plt.show()"
   ]
  },
  {
   "cell_type": "code",
   "execution_count": 12,
   "metadata": {},
   "outputs": [
    {
     "name": "stdout",
     "output_type": "stream",
     "text": [
      "37155 0.011472032694135322\n",
      "2477625 0.764995155532419\n"
     ]
    }
   ],
   "source": [
    "item_cnt = len(train.ItemId.unique())\n",
    "items = train.ItemId.value_counts()\n",
    "print(sum(items >200), sum(items >200)/item_cnt)\n",
    "print(sum(items <10), sum(items<10)/item_cnt)"
   ]
  },
  {
   "cell_type": "code",
   "execution_count": 13,
   "metadata": {},
   "outputs": [
    {
     "data": {
      "image/png": "[encoded data removed]",
      "text/plain": [
       "<Figure size 576x288 with 1 Axes>"
      ]
     },
     "metadata": {
      "needs_background": "light"
     },
     "output_type": "display_data"
    }
   ],
   "source": [
    "items = train.UserId.value_counts()\n",
    "plt.figure(figsize=(8, 4))\n",
    "plt.hist(items.values, bins=10, log=True)\n",
    "plt.xlabel('Number of times UserId appeared', fontsize=16)\n",
    "plt.ylabel('Count of displays', fontsize=16)\n",
    "plt.show()"
   ]
  },
  {
   "cell_type": "code",
   "execution_count": 14,
   "metadata": {},
   "outputs": [
    {
     "name": "stdout",
     "output_type": "stream",
     "text": [
      "0.018869062942463637\n",
      "0.00019910863689020467 497117\n",
      "0.7475262260265156 371682\n"
     ]
    }
   ],
   "source": [
    "user_cnt = len(train.UserId.unique())\n",
    "items = train.UserId.value_counts()\n",
    "print(sum(items<10)/user_cnt)\n",
    "print(sum(items<3)/user_cnt, sum(items>=3))\n",
    "print(sum(items>=40)/user_cnt, sum(items>=40))"
   ]
  },
  {
   "cell_type": "code",
   "execution_count": 15,
   "metadata": {},
   "outputs": [],
   "source": [
    "ITEM_MIN = 250\n",
    "USER_MIN = 20"
   ]
  },
  {
   "cell_type": "code",
   "execution_count": 16,
   "metadata": {},
   "outputs": [],
   "source": [
    "train = train[train['ItemId'].groupby(train['ItemId']).transform('size')>= ITEM_MIN]"
   ]
  },
  {
   "cell_type": "code",
   "execution_count": 17,
   "metadata": {},
   "outputs": [],
   "source": [
    "train = train[train['UserId'].groupby(train['UserId']).transform('size')>= USER_MIN]"
   ]
  },
  {
   "cell_type": "code",
   "execution_count": 18,
   "metadata": {},
   "outputs": [],
   "source": [
    "max_length = 50\n",
    "train = train[train['SessionId'].groupby(train['SessionId']).transform('size')>1]\n",
    "train = train[train['SessionId'].groupby(train['SessionId']).transform('size')<max_length]"
   ]
  },
  {
   "cell_type": "code",
   "execution_count": 19,
   "metadata": {},
   "outputs": [
    {
     "name": "stdout",
     "output_type": "stream",
     "text": [
      "用户数量： 247320\n",
      "item数量： 27364\n",
      "cate数量： 1339\n",
      "session数量： 1379790\n",
      "所有行为数 12238127\n",
      "session平均长度 8.869557686314584\n",
      "user平均session个数 5.578966521106259\n",
      "user平均行为个数 49.48296538896975\n"
     ]
    }
   ],
   "source": [
    "user_cnt = len(train.UserId.unique())\n",
    "item_cnt = len(train.ItemId.unique())\n",
    "cate_cnt = len(train.CategoryId.unique())\n",
    "session_cnt = len(train.SessionId.unique())\n",
    "all_cnt = train.shape\n",
    "\n",
    "print(\"用户数量：\", user_cnt)\n",
    "print(\"item数量：\", item_cnt)\n",
    "print(\"cate数量：\", cate_cnt)\n",
    "print(\"session数量：\", session_cnt)\n",
    "print(\"所有行为数\", all_cnt[0])\n",
    "\n",
    "session_cnt_dict = train['SessionId'].value_counts()\n",
    "user_cnt_dic = train[\"UserId\"].value_counts()\n",
    "item_cnt_dic = train[\"ItemId\"].value_counts()\n",
    "\n",
    "print(\"session平均长度\", all_cnt[0]/session_cnt)\n",
    "print(\"user平均session个数\", session_cnt/user_cnt)\n",
    "print(\"user平均行为个数\", all_cnt[0]/user_cnt)"
   ]
  },
  {
   "cell_type": "code",
   "execution_count": 21,
   "metadata": {},
   "outputs": [
    {
     "name": "stdout",
     "output_type": "stream",
     "text": [
      "pv      11013302\n",
      "cart      672232\n",
      "fav       355438\n",
      "buy       197155\n",
      "Name: BehaviorType, dtype: int64\n",
      "7    1591507\n",
      "8    1550677\n",
      "6    1355370\n",
      "1    1340490\n",
      "5    1338180\n",
      "0    1304011\n",
      "4    1270397\n",
      "2    1267653\n",
      "3    1219842\n",
      "Name: TimeId, dtype: int64\n"
     ]
    }
   ],
   "source": [
    "Behaviortype_cnt = train[\"BehaviorType\"].value_counts()\n",
    "print(Behaviortype_cnt)\n",
    "print(train['TimeId'].value_counts())"
   ]
  },
  {
   "cell_type": "code",
   "execution_count": 22,
   "metadata": {},
   "outputs": [
    {
     "data": {
      "image/png": "[encoded data removed]",
      "text/plain": [
       "<Figure size 288x288 with 1 Axes>"
      ]
     },
     "metadata": {},
     "output_type": "display_data"
    }
   ],
   "source": [
    "indexes = Behaviortype_cnt.index\n",
    "values = Behaviortype_cnt.values\n",
    "plt.subplots(figsize=(4,4))\n",
    "# Plot\n",
    "plt.pie(values, labels=indexes,startangle=0, autopct='%.1f%%')\n",
    " \n",
    "plt.title(\"Data proportion of user's events\")\n",
    "plt.show()"
   ]
  },
  {
   "cell_type": "code",
   "execution_count": null,
   "metadata": {},
   "outputs": [],
   "source": []
  },
  {
   "cell_type": "code",
   "execution_count": null,
   "metadata": {},
   "outputs": [],
   "source": []
  },
  {
   "cell_type": "code",
   "execution_count": 23,
   "metadata": {},
   "outputs": [
    {
     "name": "stdout",
     "output_type": "stream",
     "text": [
      "-----user的行为-------\n",
      "pv 44.53057577227883\n",
      "cart 2.7180656639171925\n",
      "fav 1.437158337376678\n",
      "buy 0.7971656153970564\n",
      "\n",
      "-----session的行为-----\n",
      "pv 7.981868255314215\n",
      "cart 0.4871987766254285\n",
      "fav 0.2576029685676806\n",
      "buy 0.14288768580726052\n"
     ]
    }
   ],
   "source": [
    "print(\"-----user的行为-------\")\n",
    "for i,j in Behaviortype_cnt.items():\n",
    "    print(i, j/user_cnt)\n",
    "print(\"\\n-----session的行为-----\")\n",
    "for i,j in Behaviortype_cnt.items():\n",
    "    print(i, j/session_cnt)"
   ]
  },
  {
   "cell_type": "code",
   "execution_count": null,
   "metadata": {},
   "outputs": [],
   "source": [
    "session_cnt_dict.hist(bins=30, figsize=(10,5))"
   ]
  },
  {
   "cell_type": "code",
   "execution_count": null,
   "metadata": {},
   "outputs": [],
   "source": [
    "user_cnt_dic.hist(bins=100, figsize=(10,5))"
   ]
  },
  {
   "cell_type": "code",
   "execution_count": null,
   "metadata": {},
   "outputs": [],
   "source": [
    "item_cnt_dic.hist(bins=100, figsize=(10,5))"
   ]
  },
  {
   "cell_type": "code",
   "execution_count": 25,
   "metadata": {},
   "outputs": [
    {
     "name": "stdout",
     "output_type": "stream",
     "text": [
      "{6: 47002, 5: 50196, 7: 38035, 4: 41703, 8: 26276, 3: 23004, 2: 6897, 9: 13315, 1: 892}\n"
     ]
    }
   ],
   "source": [
    "user_week = train[\"TimeId\"].groupby(train[\"UserId\"]).unique()\n",
    "multiweek_dict = {}\n",
    "for i, v in user_week.items():\n",
    "    l = len(v)\n",
    "    if l in multiweek_dict:\n",
    "        multiweek_dict[l] += 1\n",
    "    else:\n",
    "        multiweek_dict[l] = 1\n",
    "print(multiweek_dict)\n",
    "# 用户非常活跃"
   ]
  },
  {
   "cell_type": "code",
   "execution_count": null,
   "metadata": {},
   "outputs": [],
   "source": []
  },
  {
   "cell_type": "markdown",
   "metadata": {},
   "source": [
    "save file"
   ]
  },
  {
   "cell_type": "code",
   "execution_count": 24,
   "metadata": {},
   "outputs": [
    {
     "data": {
      "text/html": [
       "<div>\n",
       "<style scoped>\n",
       "    .dataframe tbody tr th:only-of-type {\n",
       "        vertical-align: middle;\n",
       "    }\n",
       "\n",
       "    .dataframe tbody tr th {\n",
       "        vertical-align: top;\n",
       "    }\n",
       "\n",
       "    .dataframe thead th {\n",
       "        text-align: right;\n",
       "    }\n",
       "</style>\n",
       "<table border=\"1\" class=\"dataframe\">\n",
       "  <thead>\n",
       "    <tr style=\"text-align: right;\">\n",
       "      <th></th>\n",
       "      <th>UserID</th>\n",
       "      <th>ItemID</th>\n",
       "      <th>CategoryID</th>\n",
       "      <th>Behaviortype</th>\n",
       "      <th>Timestamp</th>\n",
       "      <th>TimeID</th>\n",
       "      <th>SessionId</th>\n",
       "    </tr>\n",
       "  </thead>\n",
       "  <tbody>\n",
       "    <tr>\n",
       "      <th>269</th>\n",
       "      <td>1000004</td>\n",
       "      <td>2156592</td>\n",
       "      <td>3607361</td>\n",
       "      <td>pv</td>\n",
       "      <td>1511539241</td>\n",
       "      <td>0</td>\n",
       "      <td>1000004_0</td>\n",
       "    </tr>\n",
       "    <tr>\n",
       "      <th>270</th>\n",
       "      <td>1000004</td>\n",
       "      <td>1591982</td>\n",
       "      <td>672001</td>\n",
       "      <td>pv</td>\n",
       "      <td>1511539333</td>\n",
       "      <td>0</td>\n",
       "      <td>1000004_0</td>\n",
       "    </tr>\n",
       "    <tr>\n",
       "      <th>272</th>\n",
       "      <td>1000004</td>\n",
       "      <td>3999536</td>\n",
       "      <td>4756105</td>\n",
       "      <td>cart</td>\n",
       "      <td>1511571820</td>\n",
       "      <td>0</td>\n",
       "      <td>1000004_0</td>\n",
       "    </tr>\n",
       "    <tr>\n",
       "      <th>274</th>\n",
       "      <td>1000004</td>\n",
       "      <td>1591982</td>\n",
       "      <td>672001</td>\n",
       "      <td>pv</td>\n",
       "      <td>1511571841</td>\n",
       "      <td>0</td>\n",
       "      <td>1000004_0</td>\n",
       "    </tr>\n",
       "    <tr>\n",
       "      <th>276</th>\n",
       "      <td>1000004</td>\n",
       "      <td>2980887</td>\n",
       "      <td>3607361</td>\n",
       "      <td>cart</td>\n",
       "      <td>1511669671</td>\n",
       "      <td>1</td>\n",
       "      <td>1000004_1</td>\n",
       "    </tr>\n",
       "  </tbody>\n",
       "</table>\n",
       "</div>"
      ],
      "text/plain": [
       "      UserID   ItemID  CategoryID Behaviortype   Timestamp  TimeID  SessionId\n",
       "269  1000004  2156592     3607361           pv  1511539241       0  1000004_0\n",
       "270  1000004  1591982      672001           pv  1511539333       0  1000004_0\n",
       "272  1000004  3999536     4756105         cart  1511571820       0  1000004_0\n",
       "274  1000004  1591982      672001           pv  1511571841       0  1000004_0\n",
       "276  1000004  2980887     3607361         cart  1511669671       1  1000004_1"
      ]
     },
     "execution_count": 24,
     "metadata": {},
     "output_type": "execute_result"
    }
   ],
   "source": [
    "train.head()"
   ]
  },
  {
   "cell_type": "code",
   "execution_count": 25,
   "metadata": {},
   "outputs": [],
   "source": [
    "train.to_csv('./data/Taobao/interactions.csv', index=False)"
   ]
  },
  {
   "cell_type": "code",
   "execution_count": null,
   "metadata": {},
   "outputs": [],
   "source": [
    "# split train and test"
   ]
  },
  {
   "cell_type": "code",
   "execution_count": 26,
   "metadata": {},
   "outputs": [
    {
     "name": "stdout",
     "output_type": "stream",
     "text": [
      "Number of train/test: 10687450/1550677\n"
     ]
    }
   ],
   "source": [
    "tmax = train.TimeId.max()\n",
    "session_max_times = train.groupby('SessionId').TimeId.max()\n",
    "\n",
    "session_train = session_max_times[session_max_times < tmax].index\n",
    "session_holdout = session_max_times[session_max_times >= tmax].index\n",
    "train_tr = train[train['SessionId'].isin(session_train)]\n",
    "holdout_data = train[train['SessionId'].isin(session_holdout)]\n",
    "\n",
    "print('Number of train/test: {}/{}'.format(len(train_tr), len(holdout_data)))"
   ]
  },
  {
   "cell_type": "code",
   "execution_count": 27,
   "metadata": {},
   "outputs": [
    {
     "name": "stdout",
     "output_type": "stream",
     "text": [
      "Item size in train data: 15780\n"
     ]
    }
   ],
   "source": [
    "train_tr = train_tr[train_tr['ItemId'].groupby(train_tr['ItemId']).transform('size') >= ITEM_MIN]\n",
    "train_tr = train_tr[train_tr['SessionId'].groupby(train_tr['SessionId']).transform('size') > 1]\n",
    "\n",
    "print('Item size in train data: {}'.format(train_tr['ItemId'].nunique()))\n"
   ]
  },
  {
   "cell_type": "code",
   "execution_count": 28,
   "metadata": {},
   "outputs": [
    {
     "name": "stdout",
     "output_type": "stream",
     "text": [
      "Item size in train data: 15780\n"
     ]
    }
   ],
   "source": [
    "print('Item size in train data: {}'.format(train_tr['ItemId'].nunique()))"
   ]
  },
  {
   "cell_type": "code",
   "execution_count": 29,
   "metadata": {},
   "outputs": [
    {
     "name": "stdout",
     "output_type": "stream",
     "text": [
      "Size of to predict: 15418\n"
     ]
    }
   ],
   "source": [
    "train_item_counter = Counter(train_tr.ItemId)\n",
    "to_predict = Counter(el for el in train_item_counter.elements() if train_item_counter[el] >= ITEM_MIN).keys()\n",
    "print('Size of to predict: {}'.format(len(to_predict)))\n",
    "\n",
    "# split holdout to valid and test.\n",
    "holdout_cn = holdout_data.SessionId.nunique()\n",
    "holdout_ids = holdout_data.SessionId.unique()\n",
    "np.random.shuffle(holdout_ids)\n",
    "valid_cn = int(holdout_cn * 0.5)\n",
    "session_valid = holdout_ids[0: valid_cn]\n",
    "session_test = holdout_ids[valid_cn:]\n",
    "valid = holdout_data[holdout_data['SessionId'].isin(session_valid)]\n",
    "test = holdout_data[holdout_data['SessionId'].isin(session_test)]\n",
    "\n",
    "valid = valid[valid['ItemId'].isin(to_predict)]\n",
    "valid = valid[valid['SessionId'].groupby(valid['SessionId']).transform('size') > 1]\n",
    "\n",
    "test = test[test['ItemId'].isin(to_predict)]\n",
    "test = test[test['SessionId'].groupby(test['SessionId']).transform('size') > 1]"
   ]
  },
  {
   "cell_type": "code",
   "execution_count": 30,
   "metadata": {},
   "outputs": [
    {
     "name": "stdout",
     "output_type": "stream",
     "text": [
      "Train set\n",
      "\tEvents: 8308519\n",
      "\tSessions: 1078821\n",
      "\tUsers: 246561\n",
      "\tItems: 15780\n",
      "\tAvg length: 7.701480597800748\n",
      "Valid set\n",
      "\tEvents: 578016\n",
      "\tSessions: 75362\n",
      "\tUsers: 75362\n",
      "\tItems: 15320\n",
      "\tAvg length: 7.669860141715985\n",
      "Test set\n",
      "\tEvents: 577564\n",
      "\tSessions: 75337\n",
      "\tUsers: 75337\n",
      "\tItems: 15317\n",
      "\tAvg length: 7.666405617425701\n"
     ]
    }
   ],
   "source": [
    "print('Train set\\n\\tEvents: {}\\n\\tSessions: {}\\n\\tUsers: {}\\n\\tItems: {}\\n\\tAvg length: {}'.format(len(train_tr), train_tr.SessionId.nunique(), train_tr.UserId.nunique(),train_tr.ItemId.nunique(),\n",
    "                                                                                      train_tr.groupby('SessionId').size().mean()))\n",
    "print('Valid set\\n\\tEvents: {}\\n\\tSessions: {}\\n\\tUsers: {}\\n\\tItems: {}\\n\\tAvg length: {}'.format(len(valid), valid.SessionId.nunique(),valid.UserId.nunique(), valid.ItemId.nunique(), valid.groupby('SessionId').size().mean()))\n",
    "print('Test set\\n\\tEvents: {}\\n\\tSessions: {}\\n\\tUsers: {}\\n\\tItems: {}\\n\\tAvg length: {}'.format(len(test), test.SessionId.nunique(), test.UserId.nunique(),test.ItemId.nunique(), test.groupby('SessionId').size().mean()))"
   ]
  },
  {
   "cell_type": "code",
   "execution_count": 33,
   "metadata": {},
   "outputs": [],
   "source": [
    "train_tr = train_tr.sort_values(by = [\"SessionId\",\"Timestamp\" ], ascending = [True, True])\n",
    "valid = valid.sort_values(by = [\"SessionId\",\"Timestamp\" ], ascending = [True, True])\n",
    "test = test.sort_values(by = [\"SessionId\",\"Timestamp\" ], ascending = [True, True])"
   ]
  },
  {
   "cell_type": "code",
   "execution_count": 34,
   "metadata": {},
   "outputs": [],
   "source": [
    "train_tr.to_csv('./data/Taobao/train.tsv', sep='\\t', index=False)\n",
    "valid.to_csv('./data/Taobao/valid.tsv', sep='\\t', index=False)\n",
    "test.to_csv('./data/Taobao/test.tsv', sep='\\t', index=False)"
   ]
  },
  {
   "cell_type": "code",
   "execution_count": 35,
   "metadata": {},
   "outputs": [
    {
     "data": {
      "text/html": [
       "<div>\n",
       "<style scoped>\n",
       "    .dataframe tbody tr th:only-of-type {\n",
       "        vertical-align: middle;\n",
       "    }\n",
       "\n",
       "    .dataframe tbody tr th {\n",
       "        vertical-align: top;\n",
       "    }\n",
       "\n",
       "    .dataframe thead th {\n",
       "        text-align: right;\n",
       "    }\n",
       "</style>\n",
       "<table border=\"1\" class=\"dataframe\">\n",
       "  <thead>\n",
       "    <tr style=\"text-align: right;\">\n",
       "      <th></th>\n",
       "      <th>SessionId</th>\n",
       "      <th>UserId</th>\n",
       "      <th>ItemId</th>\n",
       "      <th>Timestamp</th>\n",
       "      <th>BehaviorType</th>\n",
       "      <th>TimeId</th>\n",
       "      <th>CategoryId</th>\n",
       "    </tr>\n",
       "  </thead>\n",
       "  <tbody>\n",
       "    <tr>\n",
       "      <th>269</th>\n",
       "      <td>1000004_0</td>\n",
       "      <td>1000004</td>\n",
       "      <td>2156592</td>\n",
       "      <td>1511539241</td>\n",
       "      <td>pv</td>\n",
       "      <td>0</td>\n",
       "      <td>3607361</td>\n",
       "    </tr>\n",
       "    <tr>\n",
       "      <th>270</th>\n",
       "      <td>1000004_0</td>\n",
       "      <td>1000004</td>\n",
       "      <td>1591982</td>\n",
       "      <td>1511539333</td>\n",
       "      <td>pv</td>\n",
       "      <td>0</td>\n",
       "      <td>672001</td>\n",
       "    </tr>\n",
       "    <tr>\n",
       "      <th>272</th>\n",
       "      <td>1000004_0</td>\n",
       "      <td>1000004</td>\n",
       "      <td>3999536</td>\n",
       "      <td>1511571820</td>\n",
       "      <td>cart</td>\n",
       "      <td>0</td>\n",
       "      <td>4756105</td>\n",
       "    </tr>\n",
       "    <tr>\n",
       "      <th>274</th>\n",
       "      <td>1000004_0</td>\n",
       "      <td>1000004</td>\n",
       "      <td>1591982</td>\n",
       "      <td>1511571841</td>\n",
       "      <td>pv</td>\n",
       "      <td>0</td>\n",
       "      <td>672001</td>\n",
       "    </tr>\n",
       "    <tr>\n",
       "      <th>276</th>\n",
       "      <td>1000004_1</td>\n",
       "      <td>1000004</td>\n",
       "      <td>2980887</td>\n",
       "      <td>1511669671</td>\n",
       "      <td>cart</td>\n",
       "      <td>1</td>\n",
       "      <td>3607361</td>\n",
       "    </tr>\n",
       "  </tbody>\n",
       "</table>\n",
       "</div>"
      ],
      "text/plain": [
       "     SessionId   UserId   ItemId   Timestamp BehaviorType  TimeId  CategoryId\n",
       "269  1000004_0  1000004  2156592  1511539241           pv       0     3607361\n",
       "270  1000004_0  1000004  1591982  1511539333           pv       0      672001\n",
       "272  1000004_0  1000004  3999536  1511571820         cart       0     4756105\n",
       "274  1000004_0  1000004  1591982  1511571841           pv       0      672001\n",
       "276  1000004_1  1000004  2980887  1511669671         cart       1     3607361"
      ]
     },
     "execution_count": 35,
     "metadata": {},
     "output_type": "execute_result"
    }
   ],
   "source": [
    "train_tr.head()"
   ]
  },
  {
   "cell_type": "code",
   "execution_count": null,
   "metadata": {},
   "outputs": [],
   "source": []
  },
  {
   "cell_type": "code",
   "execution_count": null,
   "metadata": {},
   "outputs": [],
   "source": []
  },
  {
   "cell_type": "code",
   "execution_count": 26,
   "metadata": {},
   "outputs": [
    {
     "name": "stdout",
     "output_type": "stream",
     "text": [
      "2018-08-28 08:31:23.000000\n"
     ]
    }
   ],
   "source": [
    "d = datetime.fromtimestamp(1535416283) \n",
    "str1 = d.strftime(\"%Y-%m-%d %H:%M:%S.%f\") \n",
    "print(str1)"
   ]
  },
  {
   "cell_type": "code",
   "execution_count": 19,
   "metadata": {},
   "outputs": [
    {
     "data": {
      "text/html": [
       "<div>\n",
       "<style scoped>\n",
       "    .dataframe tbody tr th:only-of-type {\n",
       "        vertical-align: middle;\n",
       "    }\n",
       "\n",
       "    .dataframe tbody tr th {\n",
       "        vertical-align: top;\n",
       "    }\n",
       "\n",
       "    .dataframe thead th {\n",
       "        text-align: right;\n",
       "    }\n",
       "</style>\n",
       "<table border=\"1\" class=\"dataframe\">\n",
       "  <thead>\n",
       "    <tr style=\"text-align: right;\">\n",
       "      <th></th>\n",
       "      <th>UserID</th>\n",
       "      <th>ItemID</th>\n",
       "      <th>CategoryID</th>\n",
       "      <th>Behaviortype</th>\n",
       "      <th>Timestamp</th>\n",
       "      <th>TimeID</th>\n",
       "      <th>SessionId</th>\n",
       "    </tr>\n",
       "  </thead>\n",
       "  <tbody>\n",
       "    <tr>\n",
       "      <th>9515559</th>\n",
       "      <td>514449</td>\n",
       "      <td>1168232</td>\n",
       "      <td>64179</td>\n",
       "      <td>pv</td>\n",
       "      <td>1511592314</td>\n",
       "      <td>0</td>\n",
       "      <td>514449_0</td>\n",
       "    </tr>\n",
       "    <tr>\n",
       "      <th>83164713</th>\n",
       "      <td>220332</td>\n",
       "      <td>2739898</td>\n",
       "      <td>883960</td>\n",
       "      <td>buy</td>\n",
       "      <td>1512094622</td>\n",
       "      <td>6</td>\n",
       "      <td>220332_6</td>\n",
       "    </tr>\n",
       "    <tr>\n",
       "      <th>57405783</th>\n",
       "      <td>883768</td>\n",
       "      <td>224906</td>\n",
       "      <td>4756105</td>\n",
       "      <td>pv</td>\n",
       "      <td>1512049805</td>\n",
       "      <td>5</td>\n",
       "      <td>883768_5</td>\n",
       "    </tr>\n",
       "    <tr>\n",
       "      <th>90258724</th>\n",
       "      <td>54334</td>\n",
       "      <td>2787306</td>\n",
       "      <td>2926020</td>\n",
       "      <td>pv</td>\n",
       "      <td>1511940653</td>\n",
       "      <td>4</td>\n",
       "      <td>54334_4</td>\n",
       "    </tr>\n",
       "    <tr>\n",
       "      <th>31805677</th>\n",
       "      <td>623249</td>\n",
       "      <td>2571093</td>\n",
       "      <td>1567637</td>\n",
       "      <td>pv</td>\n",
       "      <td>1511603157</td>\n",
       "      <td>0</td>\n",
       "      <td>623249_0</td>\n",
       "    </tr>\n",
       "  </tbody>\n",
       "</table>\n",
       "</div>"
      ],
      "text/plain": [
       "          UserID   ItemID  CategoryID Behaviortype   Timestamp  TimeID  \\\n",
       "9515559   514449  1168232       64179           pv  1511592314       0   \n",
       "83164713  220332  2739898      883960          buy  1512094622       6   \n",
       "57405783  883768   224906     4756105           pv  1512049805       5   \n",
       "90258724   54334  2787306     2926020           pv  1511940653       4   \n",
       "31805677  623249  2571093     1567637           pv  1511603157       0   \n",
       "\n",
       "         SessionId  \n",
       "9515559   514449_0  \n",
       "83164713  220332_6  \n",
       "57405783  883768_5  \n",
       "90258724   54334_4  \n",
       "31805677  623249_0  "
      ]
     },
     "execution_count": 19,
     "metadata": {},
     "output_type": "execute_result"
    }
   ],
   "source": [
    "train.head()"
   ]
  }
 ],
 "metadata": {
  "kernelspec": {
   "display_name": "Python 3",
   "language": "python",
   "name": "python3"
  },
  "language_info": {
   "codemirror_mode": {
    "name": "ipython",
    "version": 3
   },
   "file_extension": ".py",
   "mimetype": "text/x-python",
   "name": "python",
   "nbconvert_exporter": "python",
   "pygments_lexer": "ipython3",
   "version": "3.7.3"
  }
 },
 "nbformat": 4,
 "nbformat_minor": 2
}
