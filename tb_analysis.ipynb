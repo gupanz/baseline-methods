{
 "cells": [
  {
   "cell_type": "code",
   "execution_count": 1,
   "metadata": {},
   "outputs": [],
   "source": [
    "import pandas as pd\n",
    "import numpy as np\n",
    "import matplotlib.pyplot as plt\n",
    "import math\n",
    "import argparse\n",
    "import random\n",
    "import time\n",
    "from collections import Counter\n",
    "from datetime import datetime\n",
    "%matplotlib inline\n",
    "np.random.seed(5)\n",
    "pd.set_option('display.float_format',lambda x : '%.2f' % x)"
   ]
  },
  {
   "cell_type": "code",
   "execution_count": 2,
   "metadata": {},
   "outputs": [],
   "source": [
    "train = pd.read_csv('./data/Taobao/UserBehavior.csv', sep=',', names=[\"UserId\", \"ItemId\", \"CategoryId\", \"BehaviorType\", \"Timestamp\"] )"
   ]
  },
  {
   "cell_type": "code",
   "execution_count": 3,
   "metadata": {},
   "outputs": [],
   "source": [
    "# 按照行为\n",
    "# train = train.sample(frac=0.7, replace=False, weights=None, random_state=None, axis=0)\n",
    "all_user = train.UserId.unique()\n",
    "# selected_user = np.random.choice(all_user, int(0.7*len(all_user)))\n",
    "selected_user = np.random.choice(all_user, 100000)\n",
    "train = train[train.UserId.isin(selected_user)]"
   ]
  },
  {
   "cell_type": "code",
   "execution_count": 4,
   "metadata": {},
   "outputs": [
    {
     "data": {
      "text/html": [
       "<div>\n",
       "<style scoped>\n",
       "    .dataframe tbody tr th:only-of-type {\n",
       "        vertical-align: middle;\n",
       "    }\n",
       "\n",
       "    .dataframe tbody tr th {\n",
       "        vertical-align: top;\n",
       "    }\n",
       "\n",
       "    .dataframe thead th {\n",
       "        text-align: right;\n",
       "    }\n",
       "</style>\n",
       "<table border=\"1\" class=\"dataframe\">\n",
       "  <thead>\n",
       "    <tr style=\"text-align: right;\">\n",
       "      <th></th>\n",
       "      <th>UserId</th>\n",
       "      <th>ItemId</th>\n",
       "      <th>CategoryId</th>\n",
       "      <th>Timestamp</th>\n",
       "    </tr>\n",
       "  </thead>\n",
       "  <tbody>\n",
       "    <tr>\n",
       "      <th>count</th>\n",
       "      <td>9604079.00</td>\n",
       "      <td>9604079.00</td>\n",
       "      <td>9604079.00</td>\n",
       "      <td>9604079.00</td>\n",
       "    </tr>\n",
       "    <tr>\n",
       "      <th>mean</th>\n",
       "      <td>507425.53</td>\n",
       "      <td>2579543.03</td>\n",
       "      <td>2700022.00</td>\n",
       "      <td>1511945000.76</td>\n",
       "    </tr>\n",
       "    <tr>\n",
       "      <th>std</th>\n",
       "      <td>293854.57</td>\n",
       "      <td>1487554.71</td>\n",
       "      <td>1462526.15</td>\n",
       "      <td>7462708.61</td>\n",
       "    </tr>\n",
       "    <tr>\n",
       "      <th>min</th>\n",
       "      <td>3.00</td>\n",
       "      <td>4.00</td>\n",
       "      <td>80.00</td>\n",
       "      <td>-2134949234.00</td>\n",
       "    </tr>\n",
       "    <tr>\n",
       "      <th>25%</th>\n",
       "      <td>252541.00</td>\n",
       "      <td>1296406.00</td>\n",
       "      <td>1320530.00</td>\n",
       "      <td>1511762403.00</td>\n",
       "    </tr>\n",
       "    <tr>\n",
       "      <th>50%</th>\n",
       "      <td>504102.00</td>\n",
       "      <td>2579668.00</td>\n",
       "      <td>2678261.00</td>\n",
       "      <td>1511965140.00</td>\n",
       "    </tr>\n",
       "    <tr>\n",
       "      <th>75%</th>\n",
       "      <td>759352.00</td>\n",
       "      <td>3860974.00</td>\n",
       "      <td>4145813.00</td>\n",
       "      <td>1512179487.00</td>\n",
       "    </tr>\n",
       "    <tr>\n",
       "      <th>max</th>\n",
       "      <td>1018008.00</td>\n",
       "      <td>5163068.00</td>\n",
       "      <td>5161669.00</td>\n",
       "      <td>2108304574.00</td>\n",
       "    </tr>\n",
       "  </tbody>\n",
       "</table>\n",
       "</div>"
      ],
      "text/plain": [
       "          UserId     ItemId  CategoryId      Timestamp\n",
       "count 9604079.00 9604079.00  9604079.00     9604079.00\n",
       "mean   507425.53 2579543.03  2700022.00  1511945000.76\n",
       "std    293854.57 1487554.71  1462526.15     7462708.61\n",
       "min         3.00       4.00       80.00 -2134949234.00\n",
       "25%    252541.00 1296406.00  1320530.00  1511762403.00\n",
       "50%    504102.00 2579668.00  2678261.00  1511965140.00\n",
       "75%    759352.00 3860974.00  4145813.00  1512179487.00\n",
       "max   1018008.00 5163068.00  5161669.00  2108304574.00"
      ]
     },
     "execution_count": 4,
     "metadata": {},
     "output_type": "execute_result"
    }
   ],
   "source": [
    "train.describe()"
   ]
  },
  {
   "cell_type": "code",
   "execution_count": 5,
   "metadata": {},
   "outputs": [
    {
     "name": "stdout",
     "output_type": "stream",
     "text": [
      "1511539200\n",
      "1512316800\n"
     ]
    }
   ],
   "source": [
    "# 2017.11.25 to 2017.12.03\n",
    "def getTimestamp(value):\n",
    "    d = datetime.strptime(value, \"%Y.%m.%d %H:%M:%S\") \n",
    "    t = d.timetuple() \n",
    "    span = int(time.mktime(t)) \n",
    "    print(span)\n",
    "    return span\n",
    "    \n",
    "leftValue = '2017.11.25 00:00:00'\n",
    "rightValue = '2017.12.04 00:00:00'\n",
    "span_left = getTimestamp(leftValue)\n",
    "span_right = getTimestamp(rightValue)\n",
    "\n",
    "train = train[train['Timestamp'].between(span_left, span_right, inclusive=True)]"
   ]
  },
  {
   "cell_type": "code",
   "execution_count": 6,
   "metadata": {},
   "outputs": [],
   "source": [
    "day = 1\n",
    "min_timestamp = train.Timestamp.min()\n",
    "time_id = [int(math.floor((t-min_timestamp) / (86400*day))) for t in train['Timestamp']]\n",
    "train['TimeId'] = time_id\n",
    "\n",
    "session_id = [str(uid)+'_'+str(tid) for uid, tid in zip(train['UserId'], train['TimeId'])]\n",
    "train['SessionId'] = session_id\n",
    "train = train[[\"SessionId\", \"UserId\", \"ItemId\", \"Timestamp\", \"BehaviorType\",'TimeId', \"CategoryId\"]]"
   ]
  },
  {
   "cell_type": "code",
   "execution_count": 7,
   "metadata": {},
   "outputs": [
    {
     "data": {
      "image/png": "[encoded data removed]",
      "text/plain": [
       "<Figure size 576x288 with 1 Axes>"
      ]
     },
     "metadata": {
      "needs_background": "light"
     },
     "output_type": "display_data"
    }
   ],
   "source": [
    "items = train.ItemId.value_counts()\n",
    "plt.figure(figsize=(8, 4))\n",
    "plt.hist(items.values, bins=10, log=True)\n",
    "plt.xlabel('Number of times item appeared', fontsize=16)\n",
    "plt.ylabel('Count of displays', fontsize=16)\n",
    "plt.show()"
   ]
  },
  {
   "cell_type": "code",
   "execution_count": 8,
   "metadata": {},
   "outputs": [
    {
     "name": "stdout",
     "output_type": "stream",
     "text": [
      "2390 0.0015329592656163008\n",
      "1358791 0.8715360893247026\n"
     ]
    }
   ],
   "source": [
    "item_cnt = len(train.ItemId.unique())\n",
    "items = train.ItemId.value_counts()\n",
    "print(sum(items >200), sum(items >200)/item_cnt)\n",
    "print(sum(items <10), sum(items<10)/item_cnt)"
   ]
  },
  {
   "cell_type": "code",
   "execution_count": 9,
   "metadata": {},
   "outputs": [
    {
     "data": {
      "image/png": "[encoded data removed]",
      "text/plain": [
       "<Figure size 576x288 with 1 Axes>"
      ]
     },
     "metadata": {
      "needs_background": "light"
     },
     "output_type": "display_data"
    }
   ],
   "source": [
    "items = train.UserId.value_counts()\n",
    "plt.figure(figsize=(8, 4))\n",
    "plt.hist(items.values, bins=10, log=True)\n",
    "plt.xlabel('Number of times UserId appeared', fontsize=16)\n",
    "plt.ylabel('Count of displays', fontsize=16)\n",
    "plt.show()"
   ]
  },
  {
   "cell_type": "code",
   "execution_count": 10,
   "metadata": {},
   "outputs": [
    {
     "name": "stdout",
     "output_type": "stream",
     "text": [
      "0.019000126246686025\n",
      "0.0002630139292176914 95027\n",
      "0.7475697512940286 71058\n"
     ]
    }
   ],
   "source": [
    "user_cnt = len(train.UserId.unique())\n",
    "items = train.UserId.value_counts()\n",
    "print(sum(items<10)/user_cnt)\n",
    "print(sum(items<3)/user_cnt, sum(items>=3))\n",
    "print(sum(items>=40)/user_cnt, sum(items>=40))"
   ]
  },
  {
   "cell_type": "code",
   "execution_count": 86,
   "metadata": {},
   "outputs": [],
   "source": [
    "ITEM_MIN = 44\n",
    "USER_MIN = 25"
   ]
  },
  {
   "cell_type": "code",
   "execution_count": 87,
   "metadata": {},
   "outputs": [],
   "source": [
    "train = train[train['ItemId'].groupby(train['ItemId']).transform('size')>= ITEM_MIN]"
   ]
  },
  {
   "cell_type": "code",
   "execution_count": 88,
   "metadata": {},
   "outputs": [],
   "source": [
    "train = train[train['UserId'].groupby(train['UserId']).transform('size')>= USER_MIN]"
   ]
  },
  {
   "cell_type": "code",
   "execution_count": 89,
   "metadata": {},
   "outputs": [],
   "source": [
    "max_length = 50\n",
    "train = train[train['SessionId'].groupby(train['SessionId']).transform('size')>1]\n",
    "train = train[train['SessionId'].groupby(train['SessionId']).transform('size')<max_length]"
   ]
  },
  {
   "cell_type": "code",
   "execution_count": 90,
   "metadata": {},
   "outputs": [
    {
     "name": "stdout",
     "output_type": "stream",
     "text": [
      "用户数量： 31511\n",
      "item数量： 18461\n",
      "cate数量： 868\n",
      "session数量： 183791\n",
      "所有行为数 1668728\n",
      "session平均长度 9.079487026024125\n",
      "user平均session个数 5.832598140331948\n",
      "user平均行为个数 52.95699914315636\n"
     ]
    }
   ],
   "source": [
    "user_cnt = len(train.UserId.unique())\n",
    "item_cnt = len(train.ItemId.unique())\n",
    "cate_cnt = len(train.CategoryId.unique())\n",
    "session_cnt = len(train.SessionId.unique())\n",
    "all_cnt = train.shape\n",
    "\n",
    "print(\"用户数量：\", user_cnt)\n",
    "print(\"item数量：\", item_cnt)\n",
    "print(\"cate数量：\", cate_cnt)\n",
    "print(\"session数量：\", session_cnt)\n",
    "print(\"所有行为数\", all_cnt[0])\n",
    "\n",
    "session_cnt_dict = train['SessionId'].value_counts()\n",
    "user_cnt_dic = train[\"UserId\"].value_counts()\n",
    "item_cnt_dic = train[\"ItemId\"].value_counts()\n",
    "\n",
    "print(\"session平均长度\", all_cnt[0]/session_cnt)\n",
    "print(\"user平均session个数\", session_cnt/user_cnt)\n",
    "print(\"user平均行为个数\", all_cnt[0]/user_cnt)"
   ]
  },
  {
   "cell_type": "code",
   "execution_count": 91,
   "metadata": {},
   "outputs": [
    {
     "name": "stdout",
     "output_type": "stream",
     "text": [
      "pv      1507137\n",
      "cart      89886\n",
      "fav       48707\n",
      "buy       22998\n",
      "Name: BehaviorType, dtype: int64\n",
      "7    212325\n",
      "8    207610\n",
      "6    185636\n",
      "5    183219\n",
      "1    183123\n",
      "0    177762\n",
      "4    175641\n",
      "2    175219\n",
      "3    168193\n",
      "Name: TimeId, dtype: int64\n"
     ]
    }
   ],
   "source": [
    "Behaviortype_cnt = train[\"BehaviorType\"].value_counts()\n",
    "print(Behaviortype_cnt)\n",
    "print(train['TimeId'].value_counts())"
   ]
  },
  {
   "cell_type": "code",
   "execution_count": 92,
   "metadata": {},
   "outputs": [
    {
     "data": {
      "image/png": "[encoded data removed]",
      "text/plain": [
       "<Figure size 288x288 with 1 Axes>"
      ]
     },
     "metadata": {},
     "output_type": "display_data"
    }
   ],
   "source": [
    "indexes = Behaviortype_cnt.index\n",
    "values = Behaviortype_cnt.values\n",
    "plt.subplots(figsize=(4,4))\n",
    "# Plot\n",
    "plt.pie(values, labels=indexes,startangle=0, autopct='%.1f%%')\n",
    " \n",
    "plt.title(\"Data proportion of user's events\")\n",
    "plt.show()"
   ]
  },
  {
   "cell_type": "code",
   "execution_count": 93,
   "metadata": {},
   "outputs": [
    {
     "name": "stdout",
     "output_type": "stream",
     "text": [
      "-----user的行为-------\n",
      "pv 47.82891688616674\n",
      "cart 2.8525276887436135\n",
      "fav 1.545714195043001\n",
      "buy 0.7298403732030084\n",
      "\n",
      "-----session的行为-----\n",
      "pv 8.200276400911905\n",
      "cart 0.48906638518752277\n",
      "fav 0.2650129766963562\n",
      "buy 0.1251312632283409\n"
     ]
    }
   ],
   "source": [
    "print(\"-----user的行为-------\")\n",
    "for i,j in Behaviortype_cnt.items():\n",
    "    print(i, j/user_cnt)\n",
    "print(\"\\n-----session的行为-----\")\n",
    "for i,j in Behaviortype_cnt.items():\n",
    "    print(i, j/session_cnt)"
   ]
  },
  {
   "cell_type": "code",
   "execution_count": 94,
   "metadata": {},
   "outputs": [
    {
     "data": {
      "text/plain": [
       "<matplotlib.axes._subplots.AxesSubplot at 0x12940b518>"
      ]
     },
     "execution_count": 94,
     "metadata": {},
     "output_type": "execute_result"
    },
    {
     "data": {
      "image/png": "[encoded data removed]",
      "text/plain": [
       "<Figure size 720x360 with 1 Axes>"
      ]
     },
     "metadata": {
      "needs_background": "light"
     },
     "output_type": "display_data"
    }
   ],
   "source": [
    "session_cnt_dict.hist(bins=30, figsize=(10,5))"
   ]
  },
  {
   "cell_type": "code",
   "execution_count": 95,
   "metadata": {},
   "outputs": [
    {
     "data": {
      "text/plain": [
       "<matplotlib.axes._subplots.AxesSubplot at 0x128d74780>"
      ]
     },
     "execution_count": 95,
     "metadata": {},
     "output_type": "execute_result"
    },
    {
     "data": {
      "image/png": "[encoded data removed]",
      "text/plain": [
       "<Figure size 720x360 with 1 Axes>"
      ]
     },
     "metadata": {
      "needs_background": "light"
     },
     "output_type": "display_data"
    }
   ],
   "source": [
    "user_cnt_dic.hist(bins=100, figsize=(10,5))"
   ]
  },
  {
   "cell_type": "code",
   "execution_count": 96,
   "metadata": {},
   "outputs": [
    {
     "data": {
      "text/plain": [
       "<matplotlib.axes._subplots.AxesSubplot at 0x1308d6400>"
      ]
     },
     "execution_count": 96,
     "metadata": {},
     "output_type": "execute_result"
    },
    {
     "data": {
      "image/png": "[encoded data removed]",
      "text/plain": [
       "<Figure size 720x360 with 1 Axes>"
      ]
     },
     "metadata": {
      "needs_background": "light"
     },
     "output_type": "display_data"
    }
   ],
   "source": [
    "item_cnt_dic.hist(bins=10, figsize=(10,5))"
   ]
  },
  {
   "cell_type": "code",
   "execution_count": 97,
   "metadata": {},
   "outputs": [
    {
     "name": "stdout",
     "output_type": "stream",
     "text": [
      "{5: 6384, 7: 5776, 6: 6647, 4: 4509, 3: 2075, 8: 3757, 9: 1795, 2: 517, 1: 51}\n"
     ]
    }
   ],
   "source": [
    "user_week = train[\"TimeId\"].groupby(train[\"UserId\"]).unique()\n",
    "multiweek_dict = {}\n",
    "for i, v in user_week.items():\n",
    "    l = len(v)\n",
    "    if l in multiweek_dict:\n",
    "        multiweek_dict[l] += 1\n",
    "    else:\n",
    "        multiweek_dict[l] = 1\n",
    "print(multiweek_dict)\n",
    "# 用户非常活跃"
   ]
  },
  {
   "cell_type": "code",
   "execution_count": null,
   "metadata": {},
   "outputs": [],
   "source": []
  },
  {
   "cell_type": "markdown",
   "metadata": {},
   "source": [
    "save file"
   ]
  },
  {
   "cell_type": "code",
   "execution_count": 98,
   "metadata": {},
   "outputs": [],
   "source": [
    "# split train and test"
   ]
  },
  {
   "cell_type": "code",
   "execution_count": 99,
   "metadata": {},
   "outputs": [
    {
     "name": "stdout",
     "output_type": "stream",
     "text": [
      "Number of train/test: 1461118/207610\n"
     ]
    }
   ],
   "source": [
    "tmax = train.TimeId.max()\n",
    "session_max_times = train.groupby('SessionId').TimeId.max()\n",
    "\n",
    "session_train = session_max_times[session_max_times < tmax].index\n",
    "session_holdout = session_max_times[session_max_times >= tmax].index\n",
    "train_tr = train[train['SessionId'].isin(session_train)]\n",
    "holdout_data = train[train['SessionId'].isin(session_holdout)]\n",
    "\n",
    "print('Number of train/test: {}/{}'.format(len(train_tr), len(holdout_data)))"
   ]
  },
  {
   "cell_type": "code",
   "execution_count": 100,
   "metadata": {},
   "outputs": [
    {
     "name": "stdout",
     "output_type": "stream",
     "text": [
      "Item size in train data: 13743\n"
     ]
    }
   ],
   "source": [
    "train_tr = train_tr[train_tr['ItemId'].groupby(train_tr['ItemId']).transform('size') >= ITEM_MIN]\n",
    "train_tr = train_tr[train_tr['SessionId'].groupby(train_tr['SessionId']).transform('size') > 1]\n",
    "\n",
    "print('Item size in train data: {}'.format(train_tr['ItemId'].nunique()))\n"
   ]
  },
  {
   "cell_type": "code",
   "execution_count": 101,
   "metadata": {},
   "outputs": [
    {
     "name": "stdout",
     "output_type": "stream",
     "text": [
      "Item size in train data: 13743\n"
     ]
    }
   ],
   "source": [
    "print('Item size in train data: {}'.format(train_tr['ItemId'].nunique()))"
   ]
  },
  {
   "cell_type": "code",
   "execution_count": 102,
   "metadata": {},
   "outputs": [
    {
     "name": "stdout",
     "output_type": "stream",
     "text": [
      "Size of to predict: 13596\n"
     ]
    }
   ],
   "source": [
    "train_item_counter = Counter(train_tr.ItemId)\n",
    "to_predict = Counter(el for el in train_item_counter.elements() if train_item_counter[el] >= ITEM_MIN).keys()\n",
    "print('Size of to predict: {}'.format(len(to_predict)))\n",
    "\n",
    "# split holdout to valid and test.\n",
    "holdout_cn = holdout_data.SessionId.nunique()\n",
    "holdout_ids = holdout_data.SessionId.unique()\n",
    "np.random.shuffle(holdout_ids)\n",
    "valid_cn = int(holdout_cn * 0.5)\n",
    "session_valid = holdout_ids[0: valid_cn]\n",
    "session_test = holdout_ids[valid_cn:]\n",
    "valid = holdout_data[holdout_data['SessionId'].isin(session_valid)]\n",
    "test = holdout_data[holdout_data['SessionId'].isin(session_test)]\n",
    "\n",
    "valid = valid[valid['ItemId'].isin(to_predict)]\n",
    "valid = valid[valid['SessionId'].groupby(valid['SessionId']).transform('size') > 1]\n",
    "\n",
    "test = test[test['ItemId'].isin(to_predict)]\n",
    "test = test[test['SessionId'].groupby(test['SessionId']).transform('size') > 1]"
   ]
  },
  {
   "cell_type": "code",
   "execution_count": 103,
   "metadata": {},
   "outputs": [
    {
     "name": "stdout",
     "output_type": "stream",
     "text": [
      "Train set\n",
      "\tEvents: 1275610\n",
      "\tSessions: 153166\n",
      "\tUsers: 31490\n",
      "\tItems: 13743\n",
      "\tAvg length: 8.32828434508964\n",
      "Valid set\n",
      "\tEvents: 85935\n",
      "\tSessions: 10529\n",
      "\tUsers: 10529\n",
      "\tItems: 12655\n",
      "\tAvg length: 8.161743755342387\n",
      "Test set\n",
      "\tEvents: 85720\n",
      "\tSessions: 10560\n",
      "\tUsers: 10560\n",
      "\tItems: 12667\n",
      "\tAvg length: 8.117424242424242\n"
     ]
    }
   ],
   "source": [
    "print('Train set\\n\\tEvents: {}\\n\\tSessions: {}\\n\\tUsers: {}\\n\\tItems: {}\\n\\tAvg length: {}'.format(len(train_tr), train_tr.SessionId.nunique(), train_tr.UserId.nunique(),train_tr.ItemId.nunique(),\n",
    "                                                                                      train_tr.groupby('SessionId').size().mean()))\n",
    "print('Valid set\\n\\tEvents: {}\\n\\tSessions: {}\\n\\tUsers: {}\\n\\tItems: {}\\n\\tAvg length: {}'.format(len(valid), valid.SessionId.nunique(),valid.UserId.nunique(), valid.ItemId.nunique(), valid.groupby('SessionId').size().mean()))\n",
    "print('Test set\\n\\tEvents: {}\\n\\tSessions: {}\\n\\tUsers: {}\\n\\tItems: {}\\n\\tAvg length: {}'.format(len(test), test.SessionId.nunique(), test.UserId.nunique(),test.ItemId.nunique(), test.groupby('SessionId').size().mean()))"
   ]
  },
  {
   "cell_type": "code",
   "execution_count": 104,
   "metadata": {},
   "outputs": [],
   "source": [
    "train_tr = train_tr.sort_values(by = [\"SessionId\",\"Timestamp\" ], ascending = [True, True])\n",
    "valid = valid.sort_values(by = [\"SessionId\",\"Timestamp\" ], ascending = [True, True])\n",
    "test = test.sort_values(by = [\"SessionId\",\"Timestamp\" ], ascending = [True, True])"
   ]
  },
  {
   "cell_type": "code",
   "execution_count": 105,
   "metadata": {},
   "outputs": [],
   "source": [
    "train_tr.to_csv('./data/Taobao/train.tsv', sep='\\t', index=False)\n",
    "valid.to_csv('./data/Taobao/valid.tsv', sep='\\t', index=False)\n",
    "test.to_csv('./data/Taobao/test.tsv', sep='\\t', index=False)"
   ]
  },
  {
   "cell_type": "code",
   "execution_count": 106,
   "metadata": {},
   "outputs": [
    {
     "data": {
      "text/html": [
       "<div>\n",
       "<style scoped>\n",
       "    .dataframe tbody tr th:only-of-type {\n",
       "        vertical-align: middle;\n",
       "    }\n",
       "\n",
       "    .dataframe tbody tr th {\n",
       "        vertical-align: top;\n",
       "    }\n",
       "\n",
       "    .dataframe thead th {\n",
       "        text-align: right;\n",
       "    }\n",
       "</style>\n",
       "<table border=\"1\" class=\"dataframe\">\n",
       "  <thead>\n",
       "    <tr style=\"text-align: right;\">\n",
       "      <th></th>\n",
       "      <th>SessionId</th>\n",
       "      <th>UserId</th>\n",
       "      <th>ItemId</th>\n",
       "      <th>Timestamp</th>\n",
       "      <th>BehaviorType</th>\n",
       "      <th>TimeId</th>\n",
       "      <th>CategoryId</th>\n",
       "    </tr>\n",
       "  </thead>\n",
       "  <tbody>\n",
       "    <tr>\n",
       "      <th>19946959</th>\n",
       "      <td>1000035_1</td>\n",
       "      <td>1000035</td>\n",
       "      <td>668820</td>\n",
       "      <td>1511672807</td>\n",
       "      <td>pv</td>\n",
       "      <td>1</td>\n",
       "      <td>4756105</td>\n",
       "    </tr>\n",
       "    <tr>\n",
       "      <th>19946967</th>\n",
       "      <td>1000035_1</td>\n",
       "      <td>1000035</td>\n",
       "      <td>781936</td>\n",
       "      <td>1511673333</td>\n",
       "      <td>pv</td>\n",
       "      <td>1</td>\n",
       "      <td>3607361</td>\n",
       "    </tr>\n",
       "    <tr>\n",
       "      <th>19946970</th>\n",
       "      <td>1000035_1</td>\n",
       "      <td>1000035</td>\n",
       "      <td>781936</td>\n",
       "      <td>1511673381</td>\n",
       "      <td>pv</td>\n",
       "      <td>1</td>\n",
       "      <td>3607361</td>\n",
       "    </tr>\n",
       "    <tr>\n",
       "      <th>19946971</th>\n",
       "      <td>1000035_1</td>\n",
       "      <td>1000035</td>\n",
       "      <td>3228886</td>\n",
       "      <td>1511673441</td>\n",
       "      <td>pv</td>\n",
       "      <td>1</td>\n",
       "      <td>3607361</td>\n",
       "    </tr>\n",
       "    <tr>\n",
       "      <th>19946973</th>\n",
       "      <td>1000035_1</td>\n",
       "      <td>1000035</td>\n",
       "      <td>671108</td>\n",
       "      <td>1511673553</td>\n",
       "      <td>pv</td>\n",
       "      <td>1</td>\n",
       "      <td>2355072</td>\n",
       "    </tr>\n",
       "  </tbody>\n",
       "</table>\n",
       "</div>"
      ],
      "text/plain": [
       "          SessionId   UserId   ItemId   Timestamp BehaviorType  TimeId  \\\n",
       "19946959  1000035_1  1000035   668820  1511672807           pv       1   \n",
       "19946967  1000035_1  1000035   781936  1511673333           pv       1   \n",
       "19946970  1000035_1  1000035   781936  1511673381           pv       1   \n",
       "19946971  1000035_1  1000035  3228886  1511673441           pv       1   \n",
       "19946973  1000035_1  1000035   671108  1511673553           pv       1   \n",
       "\n",
       "          CategoryId  \n",
       "19946959     4756105  \n",
       "19946967     3607361  \n",
       "19946970     3607361  \n",
       "19946971     3607361  \n",
       "19946973     2355072  "
      ]
     },
     "execution_count": 106,
     "metadata": {},
     "output_type": "execute_result"
    }
   ],
   "source": [
    "train_tr.head()"
   ]
  },
  {
   "cell_type": "code",
   "execution_count": null,
   "metadata": {},
   "outputs": [],
   "source": []
  },
  {
   "cell_type": "code",
   "execution_count": 8,
   "metadata": {},
   "outputs": [
    {
     "name": "stdout",
     "output_type": "stream",
     "text": [
      "train set\n",
      "\tEvents: 7445\n",
      "\tSessions: 999\n",
      "\tUsers: 997\n",
      "\tItems: 4750\n",
      "\tAvg length: 7.4524524524524525\n",
      "test set\n",
      "\tEvents: 4775\n",
      "\tSessions: 991\n",
      "\tUsers: 991\n",
      "\tItems: 2181\n",
      "\tAvg length: 4.8183652875882945\n",
      "valid set\n",
      "\tEvents: 4675\n",
      "\tSessions: 991\n",
      "\tUsers: 991\n",
      "\tItems: 2145\n",
      "\tAvg length: 4.717457114026236\n"
     ]
    }
   ],
   "source": [
    "def select_n(df, n):\n",
    "    all_user = df.SessionId.unique()\n",
    "    selected_user = np.random.choice(all_user, n)\n",
    "    return df[df.SessionId.isin(selected_user)]\n",
    "\n",
    "train_fi = pd.read_csv('./data/Taobao/train.tsv', sep='\\t', dtype={0: str, 1:str,  2: str, 3: np.int64,  4: str, 5: str, 6: str})\n",
    "test_fi = pd.read_csv('./data/Taobao/test.tsv', sep='\\t', dtype={0: str, 1:str,  2: str, 3: np.int64,  4: str, 5: str, 6: str})\n",
    "valid_fi = pd.read_csv('./data/Taobao/valid.tsv', sep='\\t', dtype={0: str, 1:str,  2: str, 3: np.int64,  4: str, 5: str, 6: str})\n",
    "\n",
    "train_fi = select_n(train_fi, 1000)\n",
    "\n",
    "to_predict = train_fi.ItemId.unique()\n",
    "\n",
    "valid_fi = valid_fi[valid_fi['ItemId'].isin(to_predict)]\n",
    "valid_fi = valid_fi[valid_fi['SessionId'].groupby(valid_fi['SessionId']).transform('size') > 1]\n",
    "valid_fi = select_n(valid_fi, 1000)\n",
    "\n",
    "test_fi = test_fi[test_fi['ItemId'].isin(to_predict)]\n",
    "test_fi = test_fi[test_fi['SessionId'].groupby(test_fi['SessionId']).transform('size') > 1]\n",
    "test_fi = select_n(test_fi, 1000)\n",
    "\n",
    "def output(train_tr, df_name):\n",
    "    print('{} set\\n\\tEvents: {}\\n\\tSessions: {}\\n\\tUsers: {}\\n\\tItems: {}\\n\\tAvg length: {}'.format(df_name, len(train_tr), train_tr.SessionId.nunique(), train_tr.UserId.nunique(),train_tr.ItemId.nunique(),\n",
    "                                                                                      train_tr.groupby('SessionId').size().mean()))\n",
    "output(train_fi, \"train\")\n",
    "output(test_fi, \"test\")\n",
    "output(valid_fi, \"valid\")"
   ]
  },
  {
   "cell_type": "code",
   "execution_count": null,
   "metadata": {},
   "outputs": [],
   "source": []
  },
  {
   "cell_type": "code",
   "execution_count": 9,
   "metadata": {},
   "outputs": [],
   "source": [
    "train_fi.to_csv('./data/Taobao/train_mini.tsv', sep='\\t', index=False)\n",
    "valid_fi.to_csv('./data/Taobao/valid_mini.tsv', sep='\\t', index=False)\n",
    "test_fi.to_csv('./data/Taobao/test_mini.tsv', sep='\\t', index=False)"
   ]
  },
  {
   "cell_type": "code",
   "execution_count": 7,
   "metadata": {},
   "outputs": [
    {
     "name": "stdout",
     "output_type": "stream",
     "text": [
      "用户重复消费占比： 0.12518193310163828\n"
     ]
    }
   ],
   "source": [
    "behavior_cnt = train_fi['ItemId'].groupby(train_fi['UserId']).count()\n",
    "behavior_ucnt = train_fi['ItemId'].groupby(train_fi['UserId']).nunique()\n",
    "all_cnt = []\n",
    "for i , j in behavior_cnt.items():\n",
    "    all_cnt.append(behavior_ucnt[i]/behavior_cnt[i]*1.0)\n",
    "print(\"用户重复消费占比：\", 1-np.mean(all_cnt))"
   ]
  },
  {
   "cell_type": "code",
   "execution_count": null,
   "metadata": {},
   "outputs": [],
   "source": []
  },
  {
   "cell_type": "code",
   "execution_count": null,
   "metadata": {},
   "outputs": [],
   "source": []
  },
  {
   "cell_type": "code",
   "execution_count": 26,
   "metadata": {},
   "outputs": [
    {
     "name": "stdout",
     "output_type": "stream",
     "text": [
      "2018-08-28 08:31:23.000000\n"
     ]
    }
   ],
   "source": [
    "d = datetime.fromtimestamp(1535416283) \n",
    "str1 = d.strftime(\"%Y-%m-%d %H:%M:%S.%f\") \n",
    "print(str1)"
   ]
  },
  {
   "cell_type": "code",
   "execution_count": 19,
   "metadata": {},
   "outputs": [
    {
     "data": {
      "text/html": [
       "<div>\n",
       "<style scoped>\n",
       "    .dataframe tbody tr th:only-of-type {\n",
       "        vertical-align: middle;\n",
       "    }\n",
       "\n",
       "    .dataframe tbody tr th {\n",
       "        vertical-align: top;\n",
       "    }\n",
       "\n",
       "    .dataframe thead th {\n",
       "        text-align: right;\n",
       "    }\n",
       "</style>\n",
       "<table border=\"1\" class=\"dataframe\">\n",
       "  <thead>\n",
       "    <tr style=\"text-align: right;\">\n",
       "      <th></th>\n",
       "      <th>UserID</th>\n",
       "      <th>ItemID</th>\n",
       "      <th>CategoryID</th>\n",
       "      <th>Behaviortype</th>\n",
       "      <th>Timestamp</th>\n",
       "      <th>TimeID</th>\n",
       "      <th>SessionId</th>\n",
       "    </tr>\n",
       "  </thead>\n",
       "  <tbody>\n",
       "    <tr>\n",
       "      <th>9515559</th>\n",
       "      <td>514449</td>\n",
       "      <td>1168232</td>\n",
       "      <td>64179</td>\n",
       "      <td>pv</td>\n",
       "      <td>1511592314</td>\n",
       "      <td>0</td>\n",
       "      <td>514449_0</td>\n",
       "    </tr>\n",
       "    <tr>\n",
       "      <th>83164713</th>\n",
       "      <td>220332</td>\n",
       "      <td>2739898</td>\n",
       "      <td>883960</td>\n",
       "      <td>buy</td>\n",
       "      <td>1512094622</td>\n",
       "      <td>6</td>\n",
       "      <td>220332_6</td>\n",
       "    </tr>\n",
       "    <tr>\n",
       "      <th>57405783</th>\n",
       "      <td>883768</td>\n",
       "      <td>224906</td>\n",
       "      <td>4756105</td>\n",
       "      <td>pv</td>\n",
       "      <td>1512049805</td>\n",
       "      <td>5</td>\n",
       "      <td>883768_5</td>\n",
       "    </tr>\n",
       "    <tr>\n",
       "      <th>90258724</th>\n",
       "      <td>54334</td>\n",
       "      <td>2787306</td>\n",
       "      <td>2926020</td>\n",
       "      <td>pv</td>\n",
       "      <td>1511940653</td>\n",
       "      <td>4</td>\n",
       "      <td>54334_4</td>\n",
       "    </tr>\n",
       "    <tr>\n",
       "      <th>31805677</th>\n",
       "      <td>623249</td>\n",
       "      <td>2571093</td>\n",
       "      <td>1567637</td>\n",
       "      <td>pv</td>\n",
       "      <td>1511603157</td>\n",
       "      <td>0</td>\n",
       "      <td>623249_0</td>\n",
       "    </tr>\n",
       "  </tbody>\n",
       "</table>\n",
       "</div>"
      ],
      "text/plain": [
       "          UserID   ItemID  CategoryID Behaviortype   Timestamp  TimeID  \\\n",
       "9515559   514449  1168232       64179           pv  1511592314       0   \n",
       "83164713  220332  2739898      883960          buy  1512094622       6   \n",
       "57405783  883768   224906     4756105           pv  1512049805       5   \n",
       "90258724   54334  2787306     2926020           pv  1511940653       4   \n",
       "31805677  623249  2571093     1567637           pv  1511603157       0   \n",
       "\n",
       "         SessionId  \n",
       "9515559   514449_0  \n",
       "83164713  220332_6  \n",
       "57405783  883768_5  \n",
       "90258724   54334_4  \n",
       "31805677  623249_0  "
      ]
     },
     "execution_count": 19,
     "metadata": {},
     "output_type": "execute_result"
    }
   ],
   "source": [
    "train.head()"
   ]
  }
 ],
 "metadata": {
  "kernelspec": {
   "display_name": "Python 3",
   "language": "python",
   "name": "python3"
  },
  "language_info": {
   "codemirror_mode": {
    "name": "ipython",
    "version": 3
   },
   "file_extension": ".py",
   "mimetype": "text/x-python",
   "name": "python",
   "nbconvert_exporter": "python",
   "pygments_lexer": "ipython3",
   "version": "3.7.3"
  }
 },
 "nbformat": 4,
 "nbformat_minor": 2
}
