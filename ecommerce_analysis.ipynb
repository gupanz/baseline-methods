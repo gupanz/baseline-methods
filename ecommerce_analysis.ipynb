{
 "cells": [
  {
   "cell_type": "code",
   "execution_count": 1,
   "metadata": {},
   "outputs": [],
   "source": [
    "import pandas as pd\n",
    "import numpy as np\n",
    "import matplotlib.pyplot as plt\n",
    "import math\n",
    "import argparse\n",
    "import random\n",
    "import time\n",
    "from collections import Counter\n",
    "from datetime import datetime"
   ]
  },
  {
   "cell_type": "code",
   "execution_count": 2,
   "metadata": {},
   "outputs": [
    {
     "name": "stdout",
     "output_type": "stream",
     "text": [
      "1669\n"
     ]
    },
    {
     "data": {
      "text/html": [
       "<div>\n",
       "<style scoped>\n",
       "    .dataframe tbody tr th:only-of-type {\n",
       "        vertical-align: middle;\n",
       "    }\n",
       "\n",
       "    .dataframe tbody tr th {\n",
       "        vertical-align: top;\n",
       "    }\n",
       "\n",
       "    .dataframe thead th {\n",
       "        text-align: right;\n",
       "    }\n",
       "</style>\n",
       "<table border=\"1\" class=\"dataframe\">\n",
       "  <thead>\n",
       "    <tr style=\"text-align: right;\">\n",
       "      <th></th>\n",
       "      <th>categoryid</th>\n",
       "      <th>parentid</th>\n",
       "    </tr>\n",
       "  </thead>\n",
       "  <tbody>\n",
       "    <tr>\n",
       "      <th>count</th>\n",
       "      <td>1669</td>\n",
       "      <td>1644</td>\n",
       "    </tr>\n",
       "    <tr>\n",
       "      <th>unique</th>\n",
       "      <td>1669</td>\n",
       "      <td>362</td>\n",
       "    </tr>\n",
       "    <tr>\n",
       "      <th>top</th>\n",
       "      <td>1491</td>\n",
       "      <td>250</td>\n",
       "    </tr>\n",
       "    <tr>\n",
       "      <th>freq</th>\n",
       "      <td>1</td>\n",
       "      <td>31</td>\n",
       "    </tr>\n",
       "  </tbody>\n",
       "</table>\n",
       "</div>"
      ],
      "text/plain": [
       "       categoryid parentid\n",
       "count        1669     1644\n",
       "unique       1669      362\n",
       "top          1491      250\n",
       "freq            1       31"
      ]
     },
     "execution_count": 2,
     "metadata": {},
     "output_type": "execute_result"
    }
   ],
   "source": [
    "categories  = pd.read_csv('./data/ecommerce-dataset/category_tree.csv', dtype={0: str, 1: str})\n",
    "print(categories.categoryid.unique().size)\n",
    "categories.describe()"
   ]
  },
  {
   "cell_type": "code",
   "execution_count": 3,
   "metadata": {},
   "outputs": [
    {
     "name": "stdout",
     "output_type": "stream",
     "text": [
      "1669\n",
      "363\n"
     ]
    }
   ],
   "source": [
    "print(categories.categoryid.unique().size)\n",
    "print(categories.parentid.unique().size)"
   ]
  },
  {
   "cell_type": "code",
   "execution_count": 4,
   "metadata": {},
   "outputs": [],
   "source": [
    "events = pd.read_csv('./data/ecommerce-dataset/events.csv', sep=',', dtype={0: np.int64, 1: str, 2: str, 3: str, 4: str})\n",
    "events.columns = [\"Timestamp\", \"UserId\", \"BehaviorType\", \"ItemId\", \"TransactionId\"]\n",
    "day = 7\n",
    "min_timestamp = events.Timestamp.min()\n",
    "time_id = [int(math.floor((t-min_timestamp) / (1000*86400*day))) for t in events['Timestamp']]\n",
    "events['TimeId'] = time_id\n",
    "\n",
    "session_id = [str(uid)+'_'+str(tid) for uid, tid in zip(events['UserId'], events['TimeId'])]\n",
    "events['SessionId'] = session_id\n",
    "events = events[[\"SessionId\", \"UserId\", \"ItemId\", \"Timestamp\", \"BehaviorType\", \"TimeId\"]]"
   ]
  },
  {
   "cell_type": "code",
   "execution_count": 5,
   "metadata": {},
   "outputs": [
    {
     "name": "stdout",
     "output_type": "stream",
     "text": [
      "(2756101, 6)\n",
      "  SessionId  UserId  ItemId      Timestamp BehaviorType  TimeId\n",
      "0  257597_4  257597  355908  1433221332117         view       4\n",
      "1  992329_4  992329  248676  1433224214164         view       4\n",
      "2  111016_4  111016  318965  1433221999827         view       4\n",
      "3  483717_4  483717  253185  1433221955914         view       4\n",
      "4  951259_4  951259  367447  1433221337106         view       4\n"
     ]
    }
   ],
   "source": [
    "print(events.shape)\n",
    "print(events.head())"
   ]
  },
  {
   "cell_type": "code",
   "execution_count": 6,
   "metadata": {},
   "outputs": [
    {
     "name": "stdout",
     "output_type": "stream",
     "text": [
      "(20275902, 4)\n",
      "       Timestamp  ItemId    Property                            Value\n",
      "0  1435460400000  460429  categoryid                             1338\n",
      "1  1441508400000  206783         888          1116713 960601 n277.200\n",
      "2  1439089200000  395014         400  n552.000 639502 n720.000 424566\n",
      "3  1431226800000   59481         790                       n15360.000\n",
      "4  1431831600000  156781         917                           828513\n"
     ]
    }
   ],
   "source": [
    "props1 = pd.read_csv('./data/ecommerce-dataset/item_properties_part1.csv', dtype={0: np.int64, 1: str, 2: str, 3: str})\n",
    "props2 = pd.read_csv('./data/ecommerce-dataset/item_properties_part2.csv', dtype={0: np.int64, 1: str, 2: str, 3: str})\n",
    "props = pd.concat([props1, props2])\n",
    "props.columns = [\"Timestamp\", \"ItemId\", \"Property\", \"Value\"]\n",
    "print(props.shape)\n",
    "print(props.head())"
   ]
  },
  {
   "cell_type": "code",
   "execution_count": 7,
   "metadata": {},
   "outputs": [
    {
     "name": "stdout",
     "output_type": "stream",
     "text": [
      "events表中有多少个item没有categoryid:\n",
      "49815\n"
     ]
    }
   ],
   "source": [
    "props_cate = props[props.Property == 'categoryid']\n",
    "props_cate = props_cate[props_cate.ItemId.isin(events.ItemId)]\n",
    "\n",
    "print(\"events表中有多少个item没有categoryid:\")\n",
    "print(len(events[~events.ItemId.isin(props_cate.ItemId)][\"ItemId\"].unique()))\n",
    "\n",
    "events = events[events.ItemId.isin(props_cate.ItemId)]\n",
    "\n",
    "props_cate = props_cate.drop(['Property'], axis=1)\n",
    "props_cate = props_cate.rename(columns={'Value':'categoryid'})\n",
    "props_cate = props_cate.reset_index(drop=True)"
   ]
  },
  {
   "cell_type": "code",
   "execution_count": 8,
   "metadata": {},
   "outputs": [
    {
     "data": {
      "text/html": [
       "<div>\n",
       "<style scoped>\n",
       "    .dataframe tbody tr th:only-of-type {\n",
       "        vertical-align: middle;\n",
       "    }\n",
       "\n",
       "    .dataframe tbody tr th {\n",
       "        vertical-align: top;\n",
       "    }\n",
       "\n",
       "    .dataframe thead th {\n",
       "        text-align: right;\n",
       "    }\n",
       "</style>\n",
       "<table border=\"1\" class=\"dataframe\">\n",
       "  <thead>\n",
       "    <tr style=\"text-align: right;\">\n",
       "      <th></th>\n",
       "      <th>Timestamp</th>\n",
       "      <th>ItemId</th>\n",
       "      <th>categoryid</th>\n",
       "    </tr>\n",
       "  </thead>\n",
       "  <tbody>\n",
       "    <tr>\n",
       "      <th>0</th>\n",
       "      <td>1435460400000</td>\n",
       "      <td>460429</td>\n",
       "      <td>1338</td>\n",
       "    </tr>\n",
       "    <tr>\n",
       "      <th>1</th>\n",
       "      <td>1435460400000</td>\n",
       "      <td>35575</td>\n",
       "      <td>1059</td>\n",
       "    </tr>\n",
       "    <tr>\n",
       "      <th>2</th>\n",
       "      <td>1437274800000</td>\n",
       "      <td>8313</td>\n",
       "      <td>1147</td>\n",
       "    </tr>\n",
       "    <tr>\n",
       "      <th>3</th>\n",
       "      <td>1439089200000</td>\n",
       "      <td>221365</td>\n",
       "      <td>1226</td>\n",
       "    </tr>\n",
       "    <tr>\n",
       "      <th>4</th>\n",
       "      <td>1431226800000</td>\n",
       "      <td>380850</td>\n",
       "      <td>691</td>\n",
       "    </tr>\n",
       "  </tbody>\n",
       "</table>\n",
       "</div>"
      ],
      "text/plain": [
       "       Timestamp  ItemId categoryid\n",
       "0  1435460400000  460429       1338\n",
       "1  1435460400000   35575       1059\n",
       "2  1437274800000    8313       1147\n",
       "3  1439089200000  221365       1226\n",
       "4  1431226800000  380850        691"
      ]
     },
     "execution_count": 8,
     "metadata": {},
     "output_type": "execute_result"
    }
   ],
   "source": [
    "props_cate.head()"
   ]
  },
  {
   "cell_type": "code",
   "execution_count": 9,
   "metadata": {},
   "outputs": [
    {
     "name": "stdout",
     "output_type": "stream",
     "text": [
      "starting time:  2015-05-03 11:00:04.384000\n",
      "ending time:  2015-09-18 10:59:47.788000\n",
      "time interval(months): 4.5999935972222215\n",
      "user个数:  1236032\n",
      "item个数:  185246\n",
      "session个数 1361990\n",
      "总行为数:  2500516\n",
      "平均每个user行为数 2.0230188215191838\n",
      "平均每个item行为数 13.498353540697234\n",
      "平均每个session行为数 1.835928310780549\n"
     ]
    }
   ],
   "source": [
    "time_min = events.Timestamp.min()\n",
    "time_max = events.Timestamp.max()\n",
    "# print(time_min)\n",
    "# print(time_max)\n",
    "\n",
    "d = datetime.fromtimestamp(time_min/1000.0) \n",
    "str_min = d.strftime(\"%Y-%m-%d %H:%M:%S.%f\")\n",
    "print(\"starting time: \", str_min)\n",
    "d = datetime.fromtimestamp(time_max/1000.0) \n",
    "str_max = d.strftime(\"%Y-%m-%d %H:%M:%S.%f\") \n",
    "print(\"ending time: \", str_max)\n",
    "print(\"time interval(months):\", (time_max-time_min)/1000.0/60/60/24/30)\n",
    "\n",
    "user_cnt = len(events.UserId.unique())\n",
    "item_cnt = len(events.ItemId.unique())\n",
    "session_cnt = len(events.SessionId.unique())\n",
    "all_cnt = events.shape[0]\n",
    "print(\"user个数: \", user_cnt)\n",
    "print(\"item个数: \", item_cnt)\n",
    "print(\"session个数\", session_cnt)\n",
    "print(\"总行为数: \", all_cnt)\n",
    "print(\"平均每个user行为数\", all_cnt/user_cnt)\n",
    "print(\"平均每个item行为数\", all_cnt/item_cnt)\n",
    "print(\"平均每个session行为数\", all_cnt/session_cnt)"
   ]
  },
  {
   "cell_type": "code",
   "execution_count": 10,
   "metadata": {},
   "outputs": [
    {
     "data": {
      "image/png": "[encoded data removed]",
      "text/plain": [
       "<Figure size 288x288 with 1 Axes>"
      ]
     },
     "metadata": {},
     "output_type": "display_data"
    }
   ],
   "source": [
    "data = events.BehaviorType.value_counts()\n",
    "indexes = data.index\n",
    "values = data.values\n",
    "plt.subplots(figsize=(4,4))\n",
    "# Plot\n",
    "plt.pie(values, labels=indexes,startangle=0, autopct='%.1f%%')\n",
    " \n",
    "plt.title(\"Data proportion of user's events in Retailrocket Dataset\")\n",
    "plt.show()"
   ]
  },
  {
   "cell_type": "code",
   "execution_count": 11,
   "metadata": {},
   "outputs": [
    {
     "data": {
      "image/png": "[encoded data removed]",
      "text/plain": [
       "<Figure size 576x288 with 1 Axes>"
      ]
     },
     "metadata": {
      "needs_background": "light"
     },
     "output_type": "display_data"
    }
   ],
   "source": [
    "items = events.ItemId.value_counts()\n",
    "plt.figure(figsize=(8, 4))\n",
    "plt.hist(items.values, bins=50, log=True)\n",
    "plt.xlabel('Number of times item appeared', fontsize=16)\n",
    "plt.ylabel('Count of displays with item', fontsize=16)\n",
    "plt.show()"
   ]
  },
  {
   "cell_type": "code",
   "execution_count": 12,
   "metadata": {},
   "outputs": [
    {
     "name": "stdout",
     "output_type": "stream",
     "text": [
      "4006 0.021625298252054025\n",
      "135654 0.7322911155976377\n"
     ]
    }
   ],
   "source": [
    "item_cnt = len(events.ItemId.unique())\n",
    "items = events.ItemId.value_counts()\n",
    "print(sum(items >100), sum(items >100)/item_cnt)\n",
    "print(sum(items <10), sum(items<10)/item_cnt)"
   ]
  },
  {
   "cell_type": "code",
   "execution_count": 13,
   "metadata": {},
   "outputs": [
    {
     "data": {
      "image/png": "[encoded data removed]",
      "text/plain": [
       "<Figure size 576x288 with 1 Axes>"
      ]
     },
     "metadata": {
      "needs_background": "light"
     },
     "output_type": "display_data"
    }
   ],
   "source": [
    "items = events.UserId.value_counts()\n",
    "plt.figure(figsize=(8, 4))\n",
    "plt.hist(items.values, bins=10, log=True)\n",
    "plt.xlabel('Number of times UserId appeared', fontsize=16)\n",
    "plt.ylabel('Count of displays', fontsize=16)\n",
    "plt.show()"
   ]
  },
  {
   "cell_type": "code",
   "execution_count": 14,
   "metadata": {},
   "outputs": [
    {
     "name": "stdout",
     "output_type": "stream",
     "text": [
      "0.9820190739398332\n",
      "0.9948917180137731\n",
      "0.997552652358515\n",
      "0.8482870993631233 187522\n",
      "0.00244734764148501 3025\n"
     ]
    }
   ],
   "source": [
    "items = events.UserId.value_counts()\n",
    "print(sum(items<10)/user_cnt)\n",
    "print(sum(items<20)/user_cnt)\n",
    "print(sum(items<30)/user_cnt)\n",
    "print(sum(items<3)/user_cnt, sum(items>=3))\n",
    "print(sum(items>=30)/user_cnt, sum(items>=30))"
   ]
  },
  {
   "cell_type": "code",
   "execution_count": 15,
   "metadata": {},
   "outputs": [
    {
     "data": {
      "image/png": "[encoded data removed]",
      "text/plain": [
       "<Figure size 576x288 with 1 Axes>"
      ]
     },
     "metadata": {
      "needs_background": "light"
     },
     "output_type": "display_data"
    }
   ],
   "source": [
    "items = events.SessionId.value_counts()\n",
    "plt.figure(figsize=(8, 4))\n",
    "plt.hist(items.values, bins=20, log=True)\n",
    "plt.xlabel('Number of times SessionId appeared', fontsize=16)\n",
    "plt.ylabel('Count of displays', fontsize=16)\n",
    "plt.show()"
   ]
  },
  {
   "cell_type": "code",
   "execution_count": 16,
   "metadata": {},
   "outputs": [
    {
     "data": {
      "image/png": "[encoded data removed]",
      "text/plain": [
       "<Figure size 576x288 with 1 Axes>"
      ]
     },
     "metadata": {
      "needs_background": "light"
     },
     "output_type": "display_data"
    }
   ],
   "source": [
    "events = events[events['UserId'].groupby(events['UserId']).transform('size')< 30]\n",
    "items = events.UserId.value_counts()\n",
    "plt.figure(figsize=(8, 4))\n",
    "plt.hist(items.values, bins=10, log=True)\n",
    "plt.xlabel('Number of times UserId appeared', fontsize=16)\n",
    "plt.ylabel('Count of displays', fontsize=16)\n",
    "plt.show()"
   ]
  },
  {
   "cell_type": "code",
   "execution_count": 17,
   "metadata": {},
   "outputs": [],
   "source": [
    "# events = events[events['UserId'].groupby(events['UserId']).transform('size')<= 10]\n",
    "events = events[events['UserId'].groupby(events['UserId']).transform('size')>= 3]\n",
    "events = events[events['ItemId'].groupby(events['ItemId']).transform('size')>= 10]"
   ]
  },
  {
   "cell_type": "code",
   "execution_count": 18,
   "metadata": {},
   "outputs": [],
   "source": [
    "max_length = 20\n",
    "events = events[events['SessionId'].groupby(events['SessionId']).transform('size')>1]\n",
    "events = events[events['SessionId'].groupby(events['SessionId']).transform('size')<max_length]"
   ]
  },
  {
   "cell_type": "code",
   "execution_count": 19,
   "metadata": {},
   "outputs": [
    {
     "name": "stdout",
     "output_type": "stream",
     "text": [
      "UserId num: 144193\n",
      "3 45747\n",
      "4 24061\n",
      "5 14381\n",
      "6 9247\n",
      "7 6135\n",
      "8 4542\n",
      "9 3344\n",
      "10 2417\n"
     ]
    },
    {
     "data": {
      "image/png": "[encoded data removed]",
      "text/plain": [
       "<Figure size 576x288 with 1 Axes>"
      ]
     },
     "metadata": {
      "needs_background": "light"
     },
     "output_type": "display_data"
    }
   ],
   "source": [
    "print(\"UserId num:\", len(events.UserId.unique()))\n",
    "items = events.UserId.value_counts()\n",
    "for i in range(3,11):\n",
    "    print(i , sum(items==i))\n",
    "#     -----------\n",
    "\n",
    "items = events.UserId.value_counts()\n",
    "plt.figure(figsize=(8, 4))\n",
    "plt.hist(items.values, bins=10, log=True)\n",
    "plt.xlabel('Number of times UserId appeared', fontsize=16)\n",
    "plt.ylabel('Count of displays', fontsize=16)\n",
    "plt.show()"
   ]
  },
  {
   "cell_type": "code",
   "execution_count": null,
   "metadata": {},
   "outputs": [],
   "source": []
  },
  {
   "cell_type": "code",
   "execution_count": 20,
   "metadata": {},
   "outputs": [
    {
     "name": "stdout",
     "output_type": "stream",
     "text": [
      "user个数:  144193\n",
      "item个数:  23599\n",
      "session个数 160487\n",
      "总行为数:  680336\n",
      "平均每个user行为数 4.718231814304439\n",
      "平均每个item行为数 28.829018178736387\n",
      "平均每个session行为数 4.239196944300785\n"
     ]
    }
   ],
   "source": [
    "user_cnt = len(events.UserId.unique())\n",
    "item_cnt = len(events.ItemId.unique())\n",
    "session_cnt = len(events.SessionId.unique())\n",
    "all_cnt = events.shape[0]\n",
    "print(\"user个数: \", user_cnt)\n",
    "print(\"item个数: \", item_cnt)\n",
    "print(\"session个数\", session_cnt)\n",
    "print(\"总行为数: \", all_cnt)\n",
    "print(\"平均每个user行为数\", all_cnt/user_cnt)\n",
    "print(\"平均每个item行为数\", all_cnt/item_cnt)\n",
    "print(\"平均每个session行为数\", all_cnt/session_cnt)"
   ]
  },
  {
   "cell_type": "code",
   "execution_count": 21,
   "metadata": {},
   "outputs": [
    {
     "data": {
      "text/html": [
       "<div>\n",
       "<style scoped>\n",
       "    .dataframe tbody tr th:only-of-type {\n",
       "        vertical-align: middle;\n",
       "    }\n",
       "\n",
       "    .dataframe tbody tr th {\n",
       "        vertical-align: top;\n",
       "    }\n",
       "\n",
       "    .dataframe thead th {\n",
       "        text-align: right;\n",
       "    }\n",
       "</style>\n",
       "<table border=\"1\" class=\"dataframe\">\n",
       "  <thead>\n",
       "    <tr style=\"text-align: right;\">\n",
       "      <th></th>\n",
       "      <th>SessionId</th>\n",
       "      <th>UserId</th>\n",
       "      <th>ItemId</th>\n",
       "      <th>Timestamp</th>\n",
       "      <th>BehaviorType</th>\n",
       "      <th>TimeId</th>\n",
       "    </tr>\n",
       "  </thead>\n",
       "  <tbody>\n",
       "    <tr>\n",
       "      <th>8</th>\n",
       "      <td>824915_4</td>\n",
       "      <td>824915</td>\n",
       "      <td>428805</td>\n",
       "      <td>1433220899221</td>\n",
       "      <td>view</td>\n",
       "      <td>4</td>\n",
       "    </tr>\n",
       "    <tr>\n",
       "      <th>13</th>\n",
       "      <td>598426_4</td>\n",
       "      <td>598426</td>\n",
       "      <td>156489</td>\n",
       "      <td>1433223697356</td>\n",
       "      <td>view</td>\n",
       "      <td>4</td>\n",
       "    </tr>\n",
       "    <tr>\n",
       "      <th>14</th>\n",
       "      <td>223343_4</td>\n",
       "      <td>223343</td>\n",
       "      <td>402625</td>\n",
       "      <td>1433224078165</td>\n",
       "      <td>view</td>\n",
       "      <td>4</td>\n",
       "    </tr>\n",
       "    <tr>\n",
       "      <th>15</th>\n",
       "      <td>57036_4</td>\n",
       "      <td>57036</td>\n",
       "      <td>334662</td>\n",
       "      <td>1433222531378</td>\n",
       "      <td>view</td>\n",
       "      <td>4</td>\n",
       "    </tr>\n",
       "    <tr>\n",
       "      <th>19</th>\n",
       "      <td>158090_4</td>\n",
       "      <td>158090</td>\n",
       "      <td>10572</td>\n",
       "      <td>1433221078505</td>\n",
       "      <td>addtocart</td>\n",
       "      <td>4</td>\n",
       "    </tr>\n",
       "  </tbody>\n",
       "</table>\n",
       "</div>"
      ],
      "text/plain": [
       "   SessionId  UserId  ItemId      Timestamp BehaviorType  TimeId\n",
       "8   824915_4  824915  428805  1433220899221         view       4\n",
       "13  598426_4  598426  156489  1433223697356         view       4\n",
       "14  223343_4  223343  402625  1433224078165         view       4\n",
       "15   57036_4   57036  334662  1433222531378         view       4\n",
       "19  158090_4  158090   10572  1433221078505    addtocart       4"
      ]
     },
     "execution_count": 21,
     "metadata": {},
     "output_type": "execute_result"
    }
   ],
   "source": [
    "events.head()"
   ]
  },
  {
   "cell_type": "code",
   "execution_count": 22,
   "metadata": {},
   "outputs": [
    {
     "name": "stdout",
     "output_type": "stream",
     "text": [
      "{1: 130831, 2: 11183, 3: 1641, 4: 383, 5: 110, 7: 9, 6: 33, 8: 3}\n"
     ]
    }
   ],
   "source": [
    "user_week = events[\"TimeId\"].groupby(events[\"UserId\"]).unique()\n",
    "multiweek_dict = {}\n",
    "for i, v in user_week.items():\n",
    "    l = len(v)\n",
    "    if l in multiweek_dict:\n",
    "        multiweek_dict[l] += 1\n",
    "    else:\n",
    "        multiweek_dict[l] = 1\n",
    "print(multiweek_dict)\n",
    "# 用户不够活跃，基本只在一个session中出现"
   ]
  },
  {
   "cell_type": "code",
   "execution_count": null,
   "metadata": {},
   "outputs": [],
   "source": []
  },
  {
   "cell_type": "code",
   "execution_count": null,
   "metadata": {},
   "outputs": [],
   "source": [
    "# props_cate的尝试"
   ]
  },
  {
   "cell_type": "code",
   "execution_count": 22,
   "metadata": {},
   "outputs": [
    {
     "data": {
      "text/plain": [
       "18378"
      ]
     },
     "execution_count": 22,
     "metadata": {},
     "output_type": "execute_result"
    }
   ],
   "source": [
    "props_cate = props_cate[props_cate.ItemId.isin(events.ItemId)]\n",
    "len(props_cate.ItemId.unique())"
   ]
  },
  {
   "cell_type": "code",
   "execution_count": 25,
   "metadata": {},
   "outputs": [],
   "source": [
    "props_cate = pd.merge(props_cate,categories,left_on='categoryid',right_on='categoryid')"
   ]
  },
  {
   "cell_type": "code",
   "execution_count": 26,
   "metadata": {},
   "outputs": [
    {
     "data": {
      "text/html": [
       "<div>\n",
       "<style scoped>\n",
       "    .dataframe tbody tr th:only-of-type {\n",
       "        vertical-align: middle;\n",
       "    }\n",
       "\n",
       "    .dataframe tbody tr th {\n",
       "        vertical-align: top;\n",
       "    }\n",
       "\n",
       "    .dataframe thead th {\n",
       "        text-align: right;\n",
       "    }\n",
       "</style>\n",
       "<table border=\"1\" class=\"dataframe\">\n",
       "  <thead>\n",
       "    <tr style=\"text-align: right;\">\n",
       "      <th></th>\n",
       "      <th>timestamp</th>\n",
       "      <th>itemid</th>\n",
       "      <th>categoryid</th>\n",
       "      <th>parentid</th>\n",
       "    </tr>\n",
       "  </thead>\n",
       "  <tbody>\n",
       "    <tr>\n",
       "      <th>0</th>\n",
       "      <td>1438484400000</td>\n",
       "      <td>313481</td>\n",
       "      <td>1613</td>\n",
       "      <td>250</td>\n",
       "    </tr>\n",
       "    <tr>\n",
       "      <th>1</th>\n",
       "      <td>1438484400000</td>\n",
       "      <td>74371</td>\n",
       "      <td>1613</td>\n",
       "      <td>250</td>\n",
       "    </tr>\n",
       "    <tr>\n",
       "      <th>2</th>\n",
       "      <td>1437274800000</td>\n",
       "      <td>190070</td>\n",
       "      <td>1613</td>\n",
       "      <td>250</td>\n",
       "    </tr>\n",
       "    <tr>\n",
       "      <th>3</th>\n",
       "      <td>1437879600000</td>\n",
       "      <td>131099</td>\n",
       "      <td>1613</td>\n",
       "      <td>250</td>\n",
       "    </tr>\n",
       "    <tr>\n",
       "      <th>4</th>\n",
       "      <td>1437274800000</td>\n",
       "      <td>104468</td>\n",
       "      <td>1613</td>\n",
       "      <td>250</td>\n",
       "    </tr>\n",
       "  </tbody>\n",
       "</table>\n",
       "</div>"
      ],
      "text/plain": [
       "       timestamp  itemid categoryid parentid\n",
       "0  1438484400000  313481       1613      250\n",
       "1  1438484400000   74371       1613      250\n",
       "2  1437274800000  190070       1613      250\n",
       "3  1437879600000  131099       1613      250\n",
       "4  1437274800000  104468       1613      250"
      ]
     },
     "execution_count": 26,
     "metadata": {},
     "output_type": "execute_result"
    }
   ],
   "source": [
    "props_cate.head() "
   ]
  },
  {
   "cell_type": "code",
   "execution_count": 29,
   "metadata": {},
   "outputs": [],
   "source": [
    "temp = props_cate[[\"ItemId\",\"parentid\"]]"
   ]
  },
  {
   "cell_type": "code",
   "execution_count": 30,
   "metadata": {},
   "outputs": [],
   "source": [
    "temp = temp.drop_duplicates()"
   ]
  },
  {
   "cell_type": "code",
   "execution_count": 2,
   "metadata": {},
   "outputs": [
    {
     "ename": "NameError",
     "evalue": "name 'temp' is not defined",
     "output_type": "error",
     "traceback": [
      "\u001b[0;31m---------------------------------------------------------------------------\u001b[0m",
      "\u001b[0;31mNameError\u001b[0m                                 Traceback (most recent call last)",
      "\u001b[0;32m<ipython-input-2-bbdae38a2c72>\u001b[0m in \u001b[0;36m<module>\u001b[0;34m\u001b[0m\n\u001b[0;32m----> 1\u001b[0;31m \u001b[0mprint\u001b[0m\u001b[0;34m(\u001b[0m\u001b[0mlen\u001b[0m\u001b[0;34m(\u001b[0m\u001b[0mtemp\u001b[0m\u001b[0;34m.\u001b[0m\u001b[0mparentid\u001b[0m\u001b[0;34m.\u001b[0m\u001b[0munique\u001b[0m\u001b[0;34m(\u001b[0m\u001b[0;34m)\u001b[0m\u001b[0;34m)\u001b[0m\u001b[0;34m)\u001b[0m\u001b[0;34m\u001b[0m\u001b[0;34m\u001b[0m\u001b[0m\n\u001b[0m",
      "\u001b[0;31mNameError\u001b[0m: name 'temp' is not defined"
     ]
    }
   ],
   "source": [
    "print(len(temp.parentid.unique()))"
   ]
  },
  {
   "cell_type": "markdown",
   "metadata": {},
   "source": [
    "### save"
   ]
  },
  {
   "cell_type": "code",
   "execution_count": 34,
   "metadata": {},
   "outputs": [],
   "source": [
    "props_cate.to_csv(\"./ecommerce-dataset/filter_props_cate.csv\", index=False)\n",
    "events.to_csv(\"./ecommerce-dataset/filter_events.csv\", index=False)"
   ]
  },
  {
   "cell_type": "code",
   "execution_count": 23,
   "metadata": {},
   "outputs": [],
   "source": [
    "train = events\n",
    "# timestamp UserId event  ItemId transactionid  TimeID SessionId"
   ]
  },
  {
   "cell_type": "code",
   "execution_count": 25,
   "metadata": {},
   "outputs": [
    {
     "name": "stdout",
     "output_type": "stream",
     "text": [
      "[ 4  5  6  7  8 13 12 14 15 16 17 18 19  0  1  2  3  9 10 11]\n",
      "20\n"
     ]
    }
   ],
   "source": [
    "print(train.TimeId.unique())\n",
    "print(len(train.TimeId.unique()))"
   ]
  },
  {
   "cell_type": "code",
   "execution_count": 26,
   "metadata": {},
   "outputs": [
    {
     "name": "stdout",
     "output_type": "stream",
     "text": [
      "Number of train/test: 575492/104844\n"
     ]
    }
   ],
   "source": [
    "tmax = train.TimeId.max()\n",
    "session_max_times = train.groupby('SessionId').TimeId.max()\n",
    "\n",
    "session_train = session_max_times[session_max_times < tmax-3].index\n",
    "session_holdout = session_max_times[session_max_times >= tmax-3].index\n",
    "train_tr = train[train['SessionId'].isin(session_train)]\n",
    "holdout_data = train[train['SessionId'].isin(session_holdout)]\n",
    "\n",
    "print('Number of train/test: {}/{}'.format(len(train_tr), len(holdout_data)))"
   ]
  },
  {
   "cell_type": "code",
   "execution_count": 28,
   "metadata": {},
   "outputs": [
    {
     "name": "stdout",
     "output_type": "stream",
     "text": [
      "[ 4  5  6  7  8 13 12 14 15  0  1  2  3  9 10 11]\n",
      "[16 17 18 19]\n"
     ]
    }
   ],
   "source": [
    "print(train_tr.TimeId.unique())\n",
    "print(holdout_data.TimeId.unique())"
   ]
  },
  {
   "cell_type": "code",
   "execution_count": 48,
   "metadata": {},
   "outputs": [],
   "source": [
    "# events = events[events['UserId'].groupby(events['UserId']).transform('size')<= 10]\n",
    "# events = events[events['UserId'].groupby(events['UserId']).transform('size')>= 3]\n",
    "\n",
    "# events = events[events['ItemId'].groupby(events['ItemId']).transform('size')>= 10]"
   ]
  },
  {
   "cell_type": "code",
   "execution_count": 29,
   "metadata": {},
   "outputs": [
    {
     "name": "stdout",
     "output_type": "stream",
     "text": [
      "Item size in train data: 18018\n"
     ]
    }
   ],
   "source": [
    "train_tr = train_tr[train_tr['ItemId'].groupby(train_tr['ItemId']).transform('size') >= 10]\n",
    "train_tr = train_tr[train_tr['SessionId'].groupby(train_tr['SessionId']).transform('size') > 1]\n",
    "\n",
    "print('Item size in train data: {}'.format(train_tr['ItemId'].nunique()))\n"
   ]
  },
  {
   "cell_type": "code",
   "execution_count": 30,
   "metadata": {},
   "outputs": [
    {
     "name": "stdout",
     "output_type": "stream",
     "text": [
      "Size of to predict: 17732\n"
     ]
    }
   ],
   "source": [
    "train_item_counter = Counter(train_tr.ItemId)\n",
    "to_predict = Counter(el for el in train_item_counter.elements() if train_item_counter[el] >= 10).keys()\n",
    "print('Size of to predict: {}'.format(len(to_predict)))\n",
    "\n",
    "# split holdout to valid and test.\n",
    "holdout_cn = holdout_data.SessionId.nunique()\n",
    "holdout_ids = holdout_data.SessionId.unique()\n",
    "np.random.shuffle(holdout_ids)\n",
    "valid_cn = int(holdout_cn * 0.5)\n",
    "session_valid = holdout_ids[0: valid_cn]\n",
    "session_test = holdout_ids[valid_cn:]\n",
    "valid = holdout_data[holdout_data['SessionId'].isin(session_valid)]\n",
    "test = holdout_data[holdout_data['SessionId'].isin(session_test)]\n",
    "\n",
    "valid = valid[valid['ItemId'].isin(to_predict)]\n",
    "valid = valid[valid['SessionId'].groupby(valid['SessionId']).transform('size') > 1]\n",
    "\n",
    "test = test[test['ItemId'].isin(to_predict)]\n",
    "test = test[test['SessionId'].groupby(test['SessionId']).transform('size') > 1]"
   ]
  },
  {
   "cell_type": "code",
   "execution_count": 31,
   "metadata": {},
   "outputs": [
    {
     "name": "stdout",
     "output_type": "stream",
     "text": [
      "Train set\n",
      "\tEvents: 534349\n",
      "\tSessions: 126589\n",
      "\tUsers: 114836\n",
      "\tItems: 18018\n",
      "\tAvg length: 4.221132957839939\n",
      "Valid set\n",
      "\tEvents: 39213\n",
      "\tSessions: 10199\n",
      "\tUsers: 9973\n",
      "\tItems: 8415\n",
      "\tAvg length: 3.844788704774978\n",
      "Test set\n",
      "\tEvents: 39263\n",
      "\tSessions: 10209\n",
      "\tUsers: 9959\n",
      "\tItems: 8419\n",
      "\tAvg length: 3.84592026643158\n"
     ]
    }
   ],
   "source": [
    "print('Train set\\n\\tEvents: {}\\n\\tSessions: {}\\n\\tUsers: {}\\n\\tItems: {}\\n\\tAvg length: {}'.format(len(train_tr), train_tr.SessionId.nunique(), train_tr.UserId.nunique(),train_tr.ItemId.nunique(),\n",
    "                                                                                      train_tr.groupby('SessionId').size().mean()))\n",
    "print('Valid set\\n\\tEvents: {}\\n\\tSessions: {}\\n\\tUsers: {}\\n\\tItems: {}\\n\\tAvg length: {}'.format(len(valid), valid.SessionId.nunique(),valid.UserId.nunique(), valid.ItemId.nunique(), valid.groupby('SessionId').size().mean()))\n",
    "print('Test set\\n\\tEvents: {}\\n\\tSessions: {}\\n\\tUsers: {}\\n\\tItems: {}\\n\\tAvg length: {}'.format(len(test), test.SessionId.nunique(), test.UserId.nunique(),test.ItemId.nunique(), test.groupby('SessionId').size().mean()))"
   ]
  },
  {
   "cell_type": "code",
   "execution_count": 46,
   "metadata": {},
   "outputs": [
    {
     "data": {
      "text/html": [
       "<div>\n",
       "<style scoped>\n",
       "    .dataframe tbody tr th:only-of-type {\n",
       "        vertical-align: middle;\n",
       "    }\n",
       "\n",
       "    .dataframe tbody tr th {\n",
       "        vertical-align: top;\n",
       "    }\n",
       "\n",
       "    .dataframe thead th {\n",
       "        text-align: right;\n",
       "    }\n",
       "</style>\n",
       "<table border=\"1\" class=\"dataframe\">\n",
       "  <thead>\n",
       "    <tr style=\"text-align: right;\">\n",
       "      <th></th>\n",
       "      <th>A</th>\n",
       "      <th>B</th>\n",
       "      <th>C</th>\n",
       "      <th>D</th>\n",
       "    </tr>\n",
       "  </thead>\n",
       "  <tbody>\n",
       "    <tr>\n",
       "      <th>0</th>\n",
       "      <td>8</td>\n",
       "      <td>5</td>\n",
       "      <td>6</td>\n",
       "      <td>5</td>\n",
       "    </tr>\n",
       "    <tr>\n",
       "      <th>1</th>\n",
       "      <td>9</td>\n",
       "      <td>2</td>\n",
       "      <td>7</td>\n",
       "      <td>6</td>\n",
       "    </tr>\n",
       "    <tr>\n",
       "      <th>2</th>\n",
       "      <td>3</td>\n",
       "      <td>1</td>\n",
       "      <td>0</td>\n",
       "      <td>1</td>\n",
       "    </tr>\n",
       "    <tr>\n",
       "      <th>3</th>\n",
       "      <td>0</td>\n",
       "      <td>6</td>\n",
       "      <td>1</td>\n",
       "      <td>3</td>\n",
       "    </tr>\n",
       "    <tr>\n",
       "      <th>4</th>\n",
       "      <td>8</td>\n",
       "      <td>6</td>\n",
       "      <td>5</td>\n",
       "      <td>6</td>\n",
       "    </tr>\n",
       "    <tr>\n",
       "      <th>5</th>\n",
       "      <td>6</td>\n",
       "      <td>9</td>\n",
       "      <td>1</td>\n",
       "      <td>1</td>\n",
       "    </tr>\n",
       "    <tr>\n",
       "      <th>6</th>\n",
       "      <td>7</td>\n",
       "      <td>1</td>\n",
       "      <td>1</td>\n",
       "      <td>9</td>\n",
       "    </tr>\n",
       "    <tr>\n",
       "      <th>7</th>\n",
       "      <td>0</td>\n",
       "      <td>7</td>\n",
       "      <td>9</td>\n",
       "      <td>7</td>\n",
       "    </tr>\n",
       "    <tr>\n",
       "      <th>8</th>\n",
       "      <td>4</td>\n",
       "      <td>9</td>\n",
       "      <td>1</td>\n",
       "      <td>0</td>\n",
       "    </tr>\n",
       "    <tr>\n",
       "      <th>9</th>\n",
       "      <td>6</td>\n",
       "      <td>7</td>\n",
       "      <td>7</td>\n",
       "      <td>0</td>\n",
       "    </tr>\n",
       "  </tbody>\n",
       "</table>\n",
       "</div>"
      ],
      "text/plain": [
       "   A  B  C  D\n",
       "0  8  5  6  5\n",
       "1  9  2  7  6\n",
       "2  3  1  0  1\n",
       "3  0  6  1  3\n",
       "4  8  6  5  6\n",
       "5  6  9  1  1\n",
       "6  7  1  1  9\n",
       "7  0  7  9  7\n",
       "8  4  9  1  0\n",
       "9  6  7  7  0"
      ]
     },
     "execution_count": 46,
     "metadata": {},
     "output_type": "execute_result"
    }
   ],
   "source": [
    "df"
   ]
  },
  {
   "cell_type": "code",
   "execution_count": 42,
   "metadata": {},
   "outputs": [],
   "source": [
    "df = pd.DataFrame(np.random.randint(0,10,size=(10, 4)), columns=list('ABCD'))"
   ]
  },
  {
   "cell_type": "code",
   "execution_count": 45,
   "metadata": {},
   "outputs": [
    {
     "data": {
      "text/html": [
       "<div>\n",
       "<style scoped>\n",
       "    .dataframe tbody tr th:only-of-type {\n",
       "        vertical-align: middle;\n",
       "    }\n",
       "\n",
       "    .dataframe tbody tr th {\n",
       "        vertical-align: top;\n",
       "    }\n",
       "\n",
       "    .dataframe thead th {\n",
       "        text-align: right;\n",
       "    }\n",
       "</style>\n",
       "<table border=\"1\" class=\"dataframe\">\n",
       "  <thead>\n",
       "    <tr style=\"text-align: right;\">\n",
       "      <th></th>\n",
       "      <th>A</th>\n",
       "      <th>B</th>\n",
       "      <th>C</th>\n",
       "      <th>D</th>\n",
       "    </tr>\n",
       "  </thead>\n",
       "  <tbody>\n",
       "    <tr>\n",
       "      <th>3</th>\n",
       "      <td>0</td>\n",
       "      <td>6</td>\n",
       "      <td>1</td>\n",
       "      <td>3</td>\n",
       "    </tr>\n",
       "    <tr>\n",
       "      <th>7</th>\n",
       "      <td>0</td>\n",
       "      <td>7</td>\n",
       "      <td>9</td>\n",
       "      <td>7</td>\n",
       "    </tr>\n",
       "    <tr>\n",
       "      <th>2</th>\n",
       "      <td>3</td>\n",
       "      <td>1</td>\n",
       "      <td>0</td>\n",
       "      <td>1</td>\n",
       "    </tr>\n",
       "    <tr>\n",
       "      <th>8</th>\n",
       "      <td>4</td>\n",
       "      <td>9</td>\n",
       "      <td>1</td>\n",
       "      <td>0</td>\n",
       "    </tr>\n",
       "    <tr>\n",
       "      <th>9</th>\n",
       "      <td>6</td>\n",
       "      <td>7</td>\n",
       "      <td>7</td>\n",
       "      <td>0</td>\n",
       "    </tr>\n",
       "    <tr>\n",
       "      <th>5</th>\n",
       "      <td>6</td>\n",
       "      <td>9</td>\n",
       "      <td>1</td>\n",
       "      <td>1</td>\n",
       "    </tr>\n",
       "    <tr>\n",
       "      <th>6</th>\n",
       "      <td>7</td>\n",
       "      <td>1</td>\n",
       "      <td>1</td>\n",
       "      <td>9</td>\n",
       "    </tr>\n",
       "    <tr>\n",
       "      <th>0</th>\n",
       "      <td>8</td>\n",
       "      <td>5</td>\n",
       "      <td>6</td>\n",
       "      <td>5</td>\n",
       "    </tr>\n",
       "    <tr>\n",
       "      <th>4</th>\n",
       "      <td>8</td>\n",
       "      <td>6</td>\n",
       "      <td>5</td>\n",
       "      <td>6</td>\n",
       "    </tr>\n",
       "    <tr>\n",
       "      <th>1</th>\n",
       "      <td>9</td>\n",
       "      <td>2</td>\n",
       "      <td>7</td>\n",
       "      <td>6</td>\n",
       "    </tr>\n",
       "  </tbody>\n",
       "</table>\n",
       "</div>"
      ],
      "text/plain": [
       "   A  B  C  D\n",
       "3  0  6  1  3\n",
       "7  0  7  9  7\n",
       "2  3  1  0  1\n",
       "8  4  9  1  0\n",
       "9  6  7  7  0\n",
       "5  6  9  1  1\n",
       "6  7  1  1  9\n",
       "0  8  5  6  5\n",
       "4  8  6  5  6\n",
       "1  9  2  7  6"
      ]
     },
     "execution_count": 45,
     "metadata": {},
     "output_type": "execute_result"
    }
   ],
   "source": [
    "df.sort_values(by = [\"A\",\"B\" ], ascending = [True, True])"
   ]
  },
  {
   "cell_type": "code",
   "execution_count": 47,
   "metadata": {},
   "outputs": [],
   "source": [
    "train_tr = train_tr.sort_values(by = [\"SessionId\",\"Timestamp\" ], ascending = [True, True])\n",
    "valid = valid.sort_values(by = [\"SessionId\",\"Timestamp\" ], ascending = [True, True])\n",
    "test = test.sort_values(by = [\"SessionId\",\"Timestamp\" ], ascending = [True, True])"
   ]
  },
  {
   "cell_type": "code",
   "execution_count": 48,
   "metadata": {},
   "outputs": [],
   "source": [
    "train_tr.to_csv('./data/Retailrocket/train.tsv', sep='\\t', index=False)\n",
    "valid.to_csv('./data/Retailrocket/valid.tsv', sep='\\t', index=False)\n",
    "test.to_csv('./data/Retailrocket/test.tsv', sep='\\t', index=False)"
   ]
  },
  {
   "cell_type": "code",
   "execution_count": 49,
   "metadata": {},
   "outputs": [
    {
     "data": {
      "text/html": [
       "<div>\n",
       "<style scoped>\n",
       "    .dataframe tbody tr th:only-of-type {\n",
       "        vertical-align: middle;\n",
       "    }\n",
       "\n",
       "    .dataframe tbody tr th {\n",
       "        vertical-align: top;\n",
       "    }\n",
       "\n",
       "    .dataframe thead th {\n",
       "        text-align: right;\n",
       "    }\n",
       "</style>\n",
       "<table border=\"1\" class=\"dataframe\">\n",
       "  <thead>\n",
       "    <tr style=\"text-align: right;\">\n",
       "      <th></th>\n",
       "      <th>SessionId</th>\n",
       "      <th>UserId</th>\n",
       "      <th>ItemId</th>\n",
       "      <th>Timestamp</th>\n",
       "      <th>BehaviorType</th>\n",
       "      <th>TimeId</th>\n",
       "    </tr>\n",
       "  </thead>\n",
       "  <tbody>\n",
       "    <tr>\n",
       "      <th>2565936</th>\n",
       "      <td>1000001_11</td>\n",
       "      <td>1000001</td>\n",
       "      <td>202293</td>\n",
       "      <td>1437769095303</td>\n",
       "      <td>view</td>\n",
       "      <td>11</td>\n",
       "    </tr>\n",
       "    <tr>\n",
       "      <th>2577797</th>\n",
       "      <td>1000001_11</td>\n",
       "      <td>1000001</td>\n",
       "      <td>424515</td>\n",
       "      <td>1437770094773</td>\n",
       "      <td>view</td>\n",
       "      <td>11</td>\n",
       "    </tr>\n",
       "    <tr>\n",
       "      <th>2573974</th>\n",
       "      <td>1000001_11</td>\n",
       "      <td>1000001</td>\n",
       "      <td>230432</td>\n",
       "      <td>1437770157029</td>\n",
       "      <td>view</td>\n",
       "      <td>11</td>\n",
       "    </tr>\n",
       "    <tr>\n",
       "      <th>1834061</th>\n",
       "      <td>1000018_2</td>\n",
       "      <td>1000018</td>\n",
       "      <td>278214</td>\n",
       "      <td>1432183276435</td>\n",
       "      <td>view</td>\n",
       "      <td>2</td>\n",
       "    </tr>\n",
       "    <tr>\n",
       "      <th>1838381</th>\n",
       "      <td>1000018_2</td>\n",
       "      <td>1000018</td>\n",
       "      <td>19366</td>\n",
       "      <td>1432183286560</td>\n",
       "      <td>view</td>\n",
       "      <td>2</td>\n",
       "    </tr>\n",
       "  </tbody>\n",
       "</table>\n",
       "</div>"
      ],
      "text/plain": [
       "          SessionId   UserId  ItemId      Timestamp BehaviorType  TimeId\n",
       "2565936  1000001_11  1000001  202293  1437769095303         view      11\n",
       "2577797  1000001_11  1000001  424515  1437770094773         view      11\n",
       "2573974  1000001_11  1000001  230432  1437770157029         view      11\n",
       "1834061   1000018_2  1000018  278214  1432183276435         view       2\n",
       "1838381   1000018_2  1000018   19366  1432183286560         view       2"
      ]
     },
     "execution_count": 49,
     "metadata": {},
     "output_type": "execute_result"
    }
   ],
   "source": [
    "train_tr.head()"
   ]
  },
  {
   "cell_type": "code",
   "execution_count": null,
   "metadata": {},
   "outputs": [],
   "source": []
  },
  {
   "cell_type": "code",
   "execution_count": null,
   "metadata": {},
   "outputs": [],
   "source": [
    "time_id = [int(math.floor((t-min_timestamp) / (1000*86400*day))) for t in events['Timestamp']]\n",
    "events['TimeID'] = time_id\n",
    "\n",
    "categories categoryid\tparentid\n",
    "\n",
    "for props_cate.value"
   ]
  },
  {
   "cell_type": "code",
   "execution_count": null,
   "metadata": {},
   "outputs": [],
   "source": []
  }
 ],
 "metadata": {
  "kernelspec": {
   "display_name": "Python 3",
   "language": "python",
   "name": "python3"
  },
  "language_info": {
   "codemirror_mode": {
    "name": "ipython",
    "version": 3
   },
   "file_extension": ".py",
   "mimetype": "text/x-python",
   "name": "python",
   "nbconvert_exporter": "python",
   "pygments_lexer": "ipython3",
   "version": "3.7.3"
  }
 },
 "nbformat": 4,
 "nbformat_minor": 2
}
